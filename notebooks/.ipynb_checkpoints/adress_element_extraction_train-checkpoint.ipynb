{
 "cells": [
  {
   "cell_type": "markdown",
   "metadata": {
    "id": "7zlTmkBIJEwi"
   },
   "source": [
    "# Address Element Extraction"
   ]
  },
  {
   "cell_type": "code",
   "execution_count": 1,
   "metadata": {
    "colab": {
     "base_uri": "https://localhost:8080/"
    },
    "id": "SANIouHlIYo7",
    "outputId": "76c5b318-8578-402c-dd74-43df8c9a6fd3"
   },
   "outputs": [
    {
     "name": "stdout",
     "output_type": "stream",
     "text": [
      "Mounted at /content/drive\n"
     ]
    }
   ],
   "source": [
    "from google.colab import drive\n",
    "drive.mount('/content/drive')"
   ]
  },
  {
   "cell_type": "code",
   "execution_count": 2,
   "metadata": {
    "colab": {
     "base_uri": "https://localhost:8080/"
    },
    "id": "uwaJ34dGI0ou",
    "outputId": "36296ebd-ab07-483e-b0c2-302ee0ca5a5a"
   },
   "outputs": [
    {
     "name": "stdout",
     "output_type": "stream",
     "text": [
      "Collecting transformers\n",
      "\u001b[?25l  Downloading https://files.pythonhosted.org/packages/ed/d5/f4157a376b8a79489a76ce6cfe147f4f3be1e029b7144fa7b8432e8acb26/transformers-4.4.2-py3-none-any.whl (2.0MB)\n",
      "\r",
      "\u001b[K     |▏                               | 10kB 16.8MB/s eta 0:00:01\r",
      "\u001b[K     |▎                               | 20kB 21.5MB/s eta 0:00:01\r",
      "\u001b[K     |▌                               | 30kB 15.8MB/s eta 0:00:01\r",
      "\u001b[K     |▋                               | 40kB 14.3MB/s eta 0:00:01\r",
      "\u001b[K     |▉                               | 51kB 11.9MB/s eta 0:00:01\r",
      "\u001b[K     |█                               | 61kB 11.1MB/s eta 0:00:01\r",
      "\u001b[K     |█▏                              | 71kB 11.9MB/s eta 0:00:01\r",
      "\u001b[K     |█▎                              | 81kB 13.0MB/s eta 0:00:01\r",
      "\u001b[K     |█▌                              | 92kB 11.9MB/s eta 0:00:01\r",
      "\u001b[K     |█▋                              | 102kB 11.1MB/s eta 0:00:01\r",
      "\u001b[K     |█▉                              | 112kB 11.1MB/s eta 0:00:01\r",
      "\u001b[K     |██                              | 122kB 11.1MB/s eta 0:00:01\r",
      "\u001b[K     |██▏                             | 133kB 11.1MB/s eta 0:00:01\r",
      "\u001b[K     |██▎                             | 143kB 11.1MB/s eta 0:00:01\r",
      "\u001b[K     |██▌                             | 153kB 11.1MB/s eta 0:00:01\r",
      "\u001b[K     |██▋                             | 163kB 11.1MB/s eta 0:00:01\r",
      "\u001b[K     |██▉                             | 174kB 11.1MB/s eta 0:00:01\r",
      "\u001b[K     |███                             | 184kB 11.1MB/s eta 0:00:01\r",
      "\u001b[K     |███▏                            | 194kB 11.1MB/s eta 0:00:01\r",
      "\u001b[K     |███▎                            | 204kB 11.1MB/s eta 0:00:01\r",
      "\u001b[K     |███▌                            | 215kB 11.1MB/s eta 0:00:01\r",
      "\u001b[K     |███▋                            | 225kB 11.1MB/s eta 0:00:01\r",
      "\u001b[K     |███▉                            | 235kB 11.1MB/s eta 0:00:01\r",
      "\u001b[K     |████                            | 245kB 11.1MB/s eta 0:00:01\r",
      "\u001b[K     |████▏                           | 256kB 11.1MB/s eta 0:00:01\r",
      "\u001b[K     |████▎                           | 266kB 11.1MB/s eta 0:00:01\r",
      "\u001b[K     |████▌                           | 276kB 11.1MB/s eta 0:00:01\r",
      "\u001b[K     |████▋                           | 286kB 11.1MB/s eta 0:00:01\r",
      "\u001b[K     |████▉                           | 296kB 11.1MB/s eta 0:00:01\r",
      "\u001b[K     |█████                           | 307kB 11.1MB/s eta 0:00:01\r",
      "\u001b[K     |█████▏                          | 317kB 11.1MB/s eta 0:00:01\r",
      "\u001b[K     |█████▎                          | 327kB 11.1MB/s eta 0:00:01\r",
      "\u001b[K     |█████▌                          | 337kB 11.1MB/s eta 0:00:01\r",
      "\u001b[K     |█████▋                          | 348kB 11.1MB/s eta 0:00:01\r",
      "\u001b[K     |█████▉                          | 358kB 11.1MB/s eta 0:00:01\r",
      "\u001b[K     |██████                          | 368kB 11.1MB/s eta 0:00:01\r",
      "\u001b[K     |██████▏                         | 378kB 11.1MB/s eta 0:00:01\r",
      "\u001b[K     |██████▎                         | 389kB 11.1MB/s eta 0:00:01\r",
      "\u001b[K     |██████▌                         | 399kB 11.1MB/s eta 0:00:01\r",
      "\u001b[K     |██████▋                         | 409kB 11.1MB/s eta 0:00:01\r",
      "\u001b[K     |██████▉                         | 419kB 11.1MB/s eta 0:00:01\r",
      "\u001b[K     |███████                         | 430kB 11.1MB/s eta 0:00:01\r",
      "\u001b[K     |███████▏                        | 440kB 11.1MB/s eta 0:00:01\r",
      "\u001b[K     |███████▎                        | 450kB 11.1MB/s eta 0:00:01\r",
      "\u001b[K     |███████▌                        | 460kB 11.1MB/s eta 0:00:01\r",
      "\u001b[K     |███████▋                        | 471kB 11.1MB/s eta 0:00:01\r",
      "\u001b[K     |███████▉                        | 481kB 11.1MB/s eta 0:00:01\r",
      "\u001b[K     |████████                        | 491kB 11.1MB/s eta 0:00:01\r",
      "\u001b[K     |████████▏                       | 501kB 11.1MB/s eta 0:00:01\r",
      "\u001b[K     |████████▎                       | 512kB 11.1MB/s eta 0:00:01\r",
      "\u001b[K     |████████▌                       | 522kB 11.1MB/s eta 0:00:01\r",
      "\u001b[K     |████████▋                       | 532kB 11.1MB/s eta 0:00:01\r",
      "\u001b[K     |████████▉                       | 542kB 11.1MB/s eta 0:00:01\r",
      "\u001b[K     |█████████                       | 552kB 11.1MB/s eta 0:00:01\r",
      "\u001b[K     |█████████▏                      | 563kB 11.1MB/s eta 0:00:01\r",
      "\u001b[K     |█████████▎                      | 573kB 11.1MB/s eta 0:00:01\r",
      "\u001b[K     |█████████▌                      | 583kB 11.1MB/s eta 0:00:01\r",
      "\u001b[K     |█████████▋                      | 593kB 11.1MB/s eta 0:00:01\r",
      "\u001b[K     |█████████▉                      | 604kB 11.1MB/s eta 0:00:01\r",
      "\u001b[K     |██████████                      | 614kB 11.1MB/s eta 0:00:01\r",
      "\u001b[K     |██████████▏                     | 624kB 11.1MB/s eta 0:00:01\r",
      "\u001b[K     |██████████▎                     | 634kB 11.1MB/s eta 0:00:01\r",
      "\u001b[K     |██████████▌                     | 645kB 11.1MB/s eta 0:00:01\r",
      "\u001b[K     |██████████▋                     | 655kB 11.1MB/s eta 0:00:01\r",
      "\u001b[K     |██████████▉                     | 665kB 11.1MB/s eta 0:00:01\r",
      "\u001b[K     |███████████                     | 675kB 11.1MB/s eta 0:00:01\r",
      "\u001b[K     |███████████▏                    | 686kB 11.1MB/s eta 0:00:01\r",
      "\u001b[K     |███████████▎                    | 696kB 11.1MB/s eta 0:00:01\r",
      "\u001b[K     |███████████▌                    | 706kB 11.1MB/s eta 0:00:01\r",
      "\u001b[K     |███████████▋                    | 716kB 11.1MB/s eta 0:00:01\r",
      "\u001b[K     |███████████▉                    | 727kB 11.1MB/s eta 0:00:01\r",
      "\u001b[K     |████████████                    | 737kB 11.1MB/s eta 0:00:01\r",
      "\u001b[K     |████████████▏                   | 747kB 11.1MB/s eta 0:00:01\r",
      "\u001b[K     |████████████▎                   | 757kB 11.1MB/s eta 0:00:01\r",
      "\u001b[K     |████████████▌                   | 768kB 11.1MB/s eta 0:00:01\r",
      "\u001b[K     |████████████▋                   | 778kB 11.1MB/s eta 0:00:01\r",
      "\u001b[K     |████████████▉                   | 788kB 11.1MB/s eta 0:00:01\r",
      "\u001b[K     |█████████████                   | 798kB 11.1MB/s eta 0:00:01\r",
      "\u001b[K     |█████████████▏                  | 808kB 11.1MB/s eta 0:00:01\r",
      "\u001b[K     |█████████████▎                  | 819kB 11.1MB/s eta 0:00:01\r",
      "\u001b[K     |█████████████▌                  | 829kB 11.1MB/s eta 0:00:01\r",
      "\u001b[K     |█████████████▋                  | 839kB 11.1MB/s eta 0:00:01\r",
      "\u001b[K     |█████████████▉                  | 849kB 11.1MB/s eta 0:00:01\r",
      "\u001b[K     |██████████████                  | 860kB 11.1MB/s eta 0:00:01\r",
      "\u001b[K     |██████████████▏                 | 870kB 11.1MB/s eta 0:00:01\r",
      "\u001b[K     |██████████████▎                 | 880kB 11.1MB/s eta 0:00:01\r",
      "\u001b[K     |██████████████▌                 | 890kB 11.1MB/s eta 0:00:01\r",
      "\u001b[K     |██████████████▋                 | 901kB 11.1MB/s eta 0:00:01\r",
      "\u001b[K     |██████████████▊                 | 911kB 11.1MB/s eta 0:00:01\r",
      "\u001b[K     |███████████████                 | 921kB 11.1MB/s eta 0:00:01\r",
      "\u001b[K     |███████████████                 | 931kB 11.1MB/s eta 0:00:01\r",
      "\u001b[K     |███████████████▎                | 942kB 11.1MB/s eta 0:00:01\r",
      "\u001b[K     |███████████████▍                | 952kB 11.1MB/s eta 0:00:01\r",
      "\u001b[K     |███████████████▋                | 962kB 11.1MB/s eta 0:00:01\r",
      "\u001b[K     |███████████████▊                | 972kB 11.1MB/s eta 0:00:01\r",
      "\u001b[K     |████████████████                | 983kB 11.1MB/s eta 0:00:01\r",
      "\u001b[K     |████████████████                | 993kB 11.1MB/s eta 0:00:01\r",
      "\u001b[K     |████████████████▎               | 1.0MB 11.1MB/s eta 0:00:01\r",
      "\u001b[K     |████████████████▍               | 1.0MB 11.1MB/s eta 0:00:01\r",
      "\u001b[K     |████████████████▋               | 1.0MB 11.1MB/s eta 0:00:01\r",
      "\u001b[K     |████████████████▊               | 1.0MB 11.1MB/s eta 0:00:01\r",
      "\u001b[K     |█████████████████               | 1.0MB 11.1MB/s eta 0:00:01\r",
      "\u001b[K     |█████████████████               | 1.1MB 11.1MB/s eta 0:00:01\r",
      "\u001b[K     |█████████████████▎              | 1.1MB 11.1MB/s eta 0:00:01\r",
      "\u001b[K     |█████████████████▍              | 1.1MB 11.1MB/s eta 0:00:01\r",
      "\u001b[K     |█████████████████▋              | 1.1MB 11.1MB/s eta 0:00:01\r",
      "\u001b[K     |█████████████████▊              | 1.1MB 11.1MB/s eta 0:00:01\r",
      "\u001b[K     |██████████████████              | 1.1MB 11.1MB/s eta 0:00:01\r",
      "\u001b[K     |██████████████████              | 1.1MB 11.1MB/s eta 0:00:01\r",
      "\u001b[K     |██████████████████▎             | 1.1MB 11.1MB/s eta 0:00:01\r",
      "\u001b[K     |██████████████████▍             | 1.1MB 11.1MB/s eta 0:00:01\r",
      "\u001b[K     |██████████████████▋             | 1.1MB 11.1MB/s eta 0:00:01\r",
      "\u001b[K     |██████████████████▊             | 1.2MB 11.1MB/s eta 0:00:01\r",
      "\u001b[K     |███████████████████             | 1.2MB 11.1MB/s eta 0:00:01\r",
      "\u001b[K     |███████████████████             | 1.2MB 11.1MB/s eta 0:00:01\r",
      "\u001b[K     |███████████████████▎            | 1.2MB 11.1MB/s eta 0:00:01\r",
      "\u001b[K     |███████████████████▍            | 1.2MB 11.1MB/s eta 0:00:01\r",
      "\u001b[K     |███████████████████▋            | 1.2MB 11.1MB/s eta 0:00:01\r",
      "\u001b[K     |███████████████████▊            | 1.2MB 11.1MB/s eta 0:00:01\r",
      "\u001b[K     |████████████████████            | 1.2MB 11.1MB/s eta 0:00:01\r",
      "\u001b[K     |████████████████████            | 1.2MB 11.1MB/s eta 0:00:01\r",
      "\u001b[K     |████████████████████▎           | 1.2MB 11.1MB/s eta 0:00:01\r",
      "\u001b[K     |████████████████████▍           | 1.3MB 11.1MB/s eta 0:00:01\r",
      "\u001b[K     |████████████████████▋           | 1.3MB 11.1MB/s eta 0:00:01\r",
      "\u001b[K     |████████████████████▊           | 1.3MB 11.1MB/s eta 0:00:01\r",
      "\u001b[K     |█████████████████████           | 1.3MB 11.1MB/s eta 0:00:01\r",
      "\u001b[K     |█████████████████████           | 1.3MB 11.1MB/s eta 0:00:01\r",
      "\u001b[K     |█████████████████████▎          | 1.3MB 11.1MB/s eta 0:00:01\r",
      "\u001b[K     |█████████████████████▍          | 1.3MB 11.1MB/s eta 0:00:01\r",
      "\u001b[K     |█████████████████████▋          | 1.3MB 11.1MB/s eta 0:00:01\r",
      "\u001b[K     |█████████████████████▊          | 1.3MB 11.1MB/s eta 0:00:01\r",
      "\u001b[K     |██████████████████████          | 1.4MB 11.1MB/s eta 0:00:01\r",
      "\u001b[K     |██████████████████████          | 1.4MB 11.1MB/s eta 0:00:01\r",
      "\u001b[K     |██████████████████████▎         | 1.4MB 11.1MB/s eta 0:00:01\r",
      "\u001b[K     |██████████████████████▍         | 1.4MB 11.1MB/s eta 0:00:01\r",
      "\u001b[K     |██████████████████████▋         | 1.4MB 11.1MB/s eta 0:00:01\r",
      "\u001b[K     |██████████████████████▊         | 1.4MB 11.1MB/s eta 0:00:01\r",
      "\u001b[K     |███████████████████████         | 1.4MB 11.1MB/s eta 0:00:01\r",
      "\u001b[K     |███████████████████████         | 1.4MB 11.1MB/s eta 0:00:01\r",
      "\u001b[K     |███████████████████████▎        | 1.4MB 11.1MB/s eta 0:00:01\r",
      "\u001b[K     |███████████████████████▍        | 1.4MB 11.1MB/s eta 0:00:01\r",
      "\u001b[K     |███████████████████████▋        | 1.5MB 11.1MB/s eta 0:00:01\r",
      "\u001b[K     |███████████████████████▊        | 1.5MB 11.1MB/s eta 0:00:01\r",
      "\u001b[K     |████████████████████████        | 1.5MB 11.1MB/s eta 0:00:01\r",
      "\u001b[K     |████████████████████████        | 1.5MB 11.1MB/s eta 0:00:01\r",
      "\u001b[K     |████████████████████████▎       | 1.5MB 11.1MB/s eta 0:00:01\r",
      "\u001b[K     |████████████████████████▍       | 1.5MB 11.1MB/s eta 0:00:01\r",
      "\u001b[K     |████████████████████████▋       | 1.5MB 11.1MB/s eta 0:00:01\r",
      "\u001b[K     |████████████████████████▊       | 1.5MB 11.1MB/s eta 0:00:01\r",
      "\u001b[K     |█████████████████████████       | 1.5MB 11.1MB/s eta 0:00:01\r",
      "\u001b[K     |█████████████████████████       | 1.5MB 11.1MB/s eta 0:00:01\r",
      "\u001b[K     |█████████████████████████▎      | 1.6MB 11.1MB/s eta 0:00:01\r",
      "\u001b[K     |█████████████████████████▍      | 1.6MB 11.1MB/s eta 0:00:01\r",
      "\u001b[K     |█████████████████████████▋      | 1.6MB 11.1MB/s eta 0:00:01\r",
      "\u001b[K     |█████████████████████████▊      | 1.6MB 11.1MB/s eta 0:00:01\r",
      "\u001b[K     |██████████████████████████      | 1.6MB 11.1MB/s eta 0:00:01\r",
      "\u001b[K     |██████████████████████████      | 1.6MB 11.1MB/s eta 0:00:01\r",
      "\u001b[K     |██████████████████████████▎     | 1.6MB 11.1MB/s eta 0:00:01\r",
      "\u001b[K     |██████████████████████████▍     | 1.6MB 11.1MB/s eta 0:00:01\r",
      "\u001b[K     |██████████████████████████▋     | 1.6MB 11.1MB/s eta 0:00:01\r",
      "\u001b[K     |██████████████████████████▊     | 1.6MB 11.1MB/s eta 0:00:01\r",
      "\u001b[K     |███████████████████████████     | 1.7MB 11.1MB/s eta 0:00:01\r",
      "\u001b[K     |███████████████████████████     | 1.7MB 11.1MB/s eta 0:00:01\r",
      "\u001b[K     |███████████████████████████▎    | 1.7MB 11.1MB/s eta 0:00:01\r",
      "\u001b[K     |███████████████████████████▍    | 1.7MB 11.1MB/s eta 0:00:01\r",
      "\u001b[K     |███████████████████████████▋    | 1.7MB 11.1MB/s eta 0:00:01\r",
      "\u001b[K     |███████████████████████████▊    | 1.7MB 11.1MB/s eta 0:00:01\r",
      "\u001b[K     |████████████████████████████    | 1.7MB 11.1MB/s eta 0:00:01\r",
      "\u001b[K     |████████████████████████████    | 1.7MB 11.1MB/s eta 0:00:01\r",
      "\u001b[K     |████████████████████████████▎   | 1.7MB 11.1MB/s eta 0:00:01\r",
      "\u001b[K     |████████████████████████████▍   | 1.8MB 11.1MB/s eta 0:00:01\r",
      "\u001b[K     |████████████████████████████▋   | 1.8MB 11.1MB/s eta 0:00:01\r",
      "\u001b[K     |████████████████████████████▊   | 1.8MB 11.1MB/s eta 0:00:01\r",
      "\u001b[K     |█████████████████████████████   | 1.8MB 11.1MB/s eta 0:00:01\r",
      "\u001b[K     |█████████████████████████████   | 1.8MB 11.1MB/s eta 0:00:01\r",
      "\u001b[K     |█████████████████████████████▎  | 1.8MB 11.1MB/s eta 0:00:01\r",
      "\u001b[K     |█████████████████████████████▍  | 1.8MB 11.1MB/s eta 0:00:01\r",
      "\u001b[K     |█████████████████████████████▌  | 1.8MB 11.1MB/s eta 0:00:01\r",
      "\u001b[K     |█████████████████████████████▊  | 1.8MB 11.1MB/s eta 0:00:01\r",
      "\u001b[K     |█████████████████████████████▉  | 1.8MB 11.1MB/s eta 0:00:01\r",
      "\u001b[K     |██████████████████████████████  | 1.9MB 11.1MB/s eta 0:00:01\r",
      "\u001b[K     |██████████████████████████████▏ | 1.9MB 11.1MB/s eta 0:00:01\r",
      "\u001b[K     |██████████████████████████████▍ | 1.9MB 11.1MB/s eta 0:00:01\r",
      "\u001b[K     |██████████████████████████████▌ | 1.9MB 11.1MB/s eta 0:00:01\r",
      "\u001b[K     |██████████████████████████████▊ | 1.9MB 11.1MB/s eta 0:00:01\r",
      "\u001b[K     |██████████████████████████████▉ | 1.9MB 11.1MB/s eta 0:00:01\r",
      "\u001b[K     |███████████████████████████████ | 1.9MB 11.1MB/s eta 0:00:01\r",
      "\u001b[K     |███████████████████████████████▏| 1.9MB 11.1MB/s eta 0:00:01\r",
      "\u001b[K     |███████████████████████████████▍| 1.9MB 11.1MB/s eta 0:00:01\r",
      "\u001b[K     |███████████████████████████████▌| 1.9MB 11.1MB/s eta 0:00:01\r",
      "\u001b[K     |███████████████████████████████▊| 2.0MB 11.1MB/s eta 0:00:01\r",
      "\u001b[K     |███████████████████████████████▉| 2.0MB 11.1MB/s eta 0:00:01\r",
      "\u001b[K     |████████████████████████████████| 2.0MB 11.1MB/s \n",
      "\u001b[?25hRequirement already satisfied: importlib-metadata; python_version < \"3.8\" in /usr/local/lib/python3.7/dist-packages (from transformers) (3.7.2)\n",
      "Requirement already satisfied: packaging in /usr/local/lib/python3.7/dist-packages (from transformers) (20.9)\n",
      "Requirement already satisfied: filelock in /usr/local/lib/python3.7/dist-packages (from transformers) (3.0.12)\n",
      "Requirement already satisfied: tqdm>=4.27 in /usr/local/lib/python3.7/dist-packages (from transformers) (4.41.1)\n",
      "Requirement already satisfied: requests in /usr/local/lib/python3.7/dist-packages (from transformers) (2.23.0)\n",
      "Requirement already satisfied: numpy>=1.17 in /usr/local/lib/python3.7/dist-packages (from transformers) (1.19.5)\n",
      "Collecting tokenizers<0.11,>=0.10.1\n",
      "\u001b[?25l  Downloading https://files.pythonhosted.org/packages/71/23/2ddc317b2121117bf34dd00f5b0de194158f2a44ee2bf5e47c7166878a97/tokenizers-0.10.1-cp37-cp37m-manylinux2010_x86_64.whl (3.2MB)\n",
      "\u001b[K     |████████████████████████████████| 3.2MB 36.9MB/s \n",
      "\u001b[?25hRequirement already satisfied: regex!=2019.12.17 in /usr/local/lib/python3.7/dist-packages (from transformers) (2019.12.20)\n",
      "Collecting sacremoses\n",
      "\u001b[?25l  Downloading https://files.pythonhosted.org/packages/7d/34/09d19aff26edcc8eb2a01bed8e98f13a1537005d31e95233fd48216eed10/sacremoses-0.0.43.tar.gz (883kB)\n",
      "\u001b[K     |████████████████████████████████| 890kB 40.5MB/s \n",
      "\u001b[?25hRequirement already satisfied: zipp>=0.5 in /usr/local/lib/python3.7/dist-packages (from importlib-metadata; python_version < \"3.8\"->transformers) (3.4.1)\n",
      "Requirement already satisfied: typing-extensions>=3.6.4; python_version < \"3.8\" in /usr/local/lib/python3.7/dist-packages (from importlib-metadata; python_version < \"3.8\"->transformers) (3.7.4.3)\n",
      "Requirement already satisfied: pyparsing>=2.0.2 in /usr/local/lib/python3.7/dist-packages (from packaging->transformers) (2.4.7)\n",
      "Requirement already satisfied: urllib3!=1.25.0,!=1.25.1,<1.26,>=1.21.1 in /usr/local/lib/python3.7/dist-packages (from requests->transformers) (1.24.3)\n",
      "Requirement already satisfied: chardet<4,>=3.0.2 in /usr/local/lib/python3.7/dist-packages (from requests->transformers) (3.0.4)\n",
      "Requirement already satisfied: certifi>=2017.4.17 in /usr/local/lib/python3.7/dist-packages (from requests->transformers) (2020.12.5)\n",
      "Requirement already satisfied: idna<3,>=2.5 in /usr/local/lib/python3.7/dist-packages (from requests->transformers) (2.10)\n",
      "Requirement already satisfied: six in /usr/local/lib/python3.7/dist-packages (from sacremoses->transformers) (1.15.0)\n",
      "Requirement already satisfied: click in /usr/local/lib/python3.7/dist-packages (from sacremoses->transformers) (7.1.2)\n",
      "Requirement already satisfied: joblib in /usr/local/lib/python3.7/dist-packages (from sacremoses->transformers) (1.0.1)\n",
      "Building wheels for collected packages: sacremoses\n",
      "  Building wheel for sacremoses (setup.py) ... \u001b[?25l\u001b[?25hdone\n",
      "  Created wheel for sacremoses: filename=sacremoses-0.0.43-cp37-none-any.whl size=893262 sha256=606d859117427b0b46ff115ae6ad73735499b35981785dfe5274c40873981439\n",
      "  Stored in directory: /root/.cache/pip/wheels/29/3c/fd/7ce5c3f0666dab31a50123635e6fb5e19ceb42ce38d4e58f45\n",
      "Successfully built sacremoses\n",
      "Installing collected packages: tokenizers, sacremoses, transformers\n",
      "Successfully installed sacremoses-0.0.43 tokenizers-0.10.1 transformers-4.4.2\n",
      "Collecting datasets\n",
      "\u001b[?25l  Downloading https://files.pythonhosted.org/packages/54/90/43b396481a8298c6010afb93b3c1e71d4ba6f8c10797a7da8eb005e45081/datasets-1.5.0-py3-none-any.whl (192kB)\n",
      "\u001b[K     |████████████████████████████████| 194kB 9.6MB/s \n",
      "\u001b[?25hRequirement already satisfied: tqdm<4.50.0,>=4.27 in /usr/local/lib/python3.7/dist-packages (from datasets) (4.41.1)\n",
      "Requirement already satisfied: multiprocess in /usr/local/lib/python3.7/dist-packages (from datasets) (0.70.11.1)\n",
      "Requirement already satisfied: pandas in /usr/local/lib/python3.7/dist-packages (from datasets) (1.1.5)\n",
      "Requirement already satisfied: importlib-metadata; python_version < \"3.8\" in /usr/local/lib/python3.7/dist-packages (from datasets) (3.7.2)\n",
      "Requirement already satisfied: pyarrow>=0.17.1 in /usr/local/lib/python3.7/dist-packages (from datasets) (3.0.0)\n",
      "Requirement already satisfied: requests>=2.19.0 in /usr/local/lib/python3.7/dist-packages (from datasets) (2.23.0)\n",
      "Requirement already satisfied: numpy>=1.17 in /usr/local/lib/python3.7/dist-packages (from datasets) (1.19.5)\n",
      "Collecting fsspec\n",
      "\u001b[?25l  Downloading https://files.pythonhosted.org/packages/91/0d/a6bfee0ddf47b254286b9bd574e6f50978c69897647ae15b14230711806e/fsspec-0.8.7-py3-none-any.whl (103kB)\n",
      "\u001b[K     |████████████████████████████████| 112kB 20.1MB/s \n",
      "\u001b[?25hCollecting xxhash\n",
      "\u001b[?25l  Downloading https://files.pythonhosted.org/packages/e7/27/1c0b37c53a7852f1c190ba5039404d27b3ae96a55f48203a74259f8213c9/xxhash-2.0.0-cp37-cp37m-manylinux2010_x86_64.whl (243kB)\n",
      "\u001b[K     |████████████████████████████████| 245kB 16.9MB/s \n",
      "\u001b[?25hCollecting huggingface-hub<0.1.0\n",
      "  Downloading https://files.pythonhosted.org/packages/af/07/bf95f398e6598202d878332280f36e589512174882536eb20d792532a57d/huggingface_hub-0.0.7-py3-none-any.whl\n",
      "Requirement already satisfied: dill in /usr/local/lib/python3.7/dist-packages (from datasets) (0.3.3)\n",
      "Requirement already satisfied: pytz>=2017.2 in /usr/local/lib/python3.7/dist-packages (from pandas->datasets) (2018.9)\n",
      "Requirement already satisfied: python-dateutil>=2.7.3 in /usr/local/lib/python3.7/dist-packages (from pandas->datasets) (2.8.1)\n",
      "Requirement already satisfied: typing-extensions>=3.6.4; python_version < \"3.8\" in /usr/local/lib/python3.7/dist-packages (from importlib-metadata; python_version < \"3.8\"->datasets) (3.7.4.3)\n",
      "Requirement already satisfied: zipp>=0.5 in /usr/local/lib/python3.7/dist-packages (from importlib-metadata; python_version < \"3.8\"->datasets) (3.4.1)\n",
      "Requirement already satisfied: chardet<4,>=3.0.2 in /usr/local/lib/python3.7/dist-packages (from requests>=2.19.0->datasets) (3.0.4)\n",
      "Requirement already satisfied: urllib3!=1.25.0,!=1.25.1,<1.26,>=1.21.1 in /usr/local/lib/python3.7/dist-packages (from requests>=2.19.0->datasets) (1.24.3)\n",
      "Requirement already satisfied: certifi>=2017.4.17 in /usr/local/lib/python3.7/dist-packages (from requests>=2.19.0->datasets) (2020.12.5)\n",
      "Requirement already satisfied: idna<3,>=2.5 in /usr/local/lib/python3.7/dist-packages (from requests>=2.19.0->datasets) (2.10)\n",
      "Requirement already satisfied: filelock in /usr/local/lib/python3.7/dist-packages (from huggingface-hub<0.1.0->datasets) (3.0.12)\n",
      "Requirement already satisfied: six>=1.5 in /usr/local/lib/python3.7/dist-packages (from python-dateutil>=2.7.3->pandas->datasets) (1.15.0)\n",
      "Installing collected packages: fsspec, xxhash, huggingface-hub, datasets\n",
      "Successfully installed datasets-1.5.0 fsspec-0.8.7 huggingface-hub-0.0.7 xxhash-2.0.0\n",
      "Collecting seqeval\n",
      "\u001b[?25l  Downloading https://files.pythonhosted.org/packages/9d/2d/233c79d5b4e5ab1dbf111242299153f3caddddbb691219f363ad55ce783d/seqeval-1.2.2.tar.gz (43kB)\n",
      "\u001b[K     |████████████████████████████████| 51kB 4.7MB/s \n",
      "\u001b[?25hRequirement already satisfied: numpy>=1.14.0 in /usr/local/lib/python3.7/dist-packages (from seqeval) (1.19.5)\n",
      "Requirement already satisfied: scikit-learn>=0.21.3 in /usr/local/lib/python3.7/dist-packages (from seqeval) (0.22.2.post1)\n",
      "Requirement already satisfied: joblib>=0.11 in /usr/local/lib/python3.7/dist-packages (from scikit-learn>=0.21.3->seqeval) (1.0.1)\n",
      "Requirement already satisfied: scipy>=0.17.0 in /usr/local/lib/python3.7/dist-packages (from scikit-learn>=0.21.3->seqeval) (1.4.1)\n",
      "Building wheels for collected packages: seqeval\n",
      "  Building wheel for seqeval (setup.py) ... \u001b[?25l\u001b[?25hdone\n",
      "  Created wheel for seqeval: filename=seqeval-1.2.2-cp37-none-any.whl size=16172 sha256=12bb11ad955a84cbca711b7577ac017c7ce95e650860c726376d773d5ab8c6da\n",
      "  Stored in directory: /root/.cache/pip/wheels/52/df/1b/45d75646c37428f7e626214704a0e35bd3cfc32eda37e59e5f\n",
      "Successfully built seqeval\n",
      "Installing collected packages: seqeval\n",
      "Successfully installed seqeval-1.2.2\n"
     ]
    }
   ],
   "source": [
    "!pip install transformers\n",
    "!pip install datasets\n",
    "!pip install seqeval"
   ]
  },
  {
   "cell_type": "code",
   "execution_count": 3,
   "metadata": {
    "id": "mEo_prNvI6Ss"
   },
   "outputs": [],
   "source": [
    "import re\n",
    "import string\n",
    "import pickle\n",
    "\n",
    "import pandas as pd\n",
    "import numpy as np\n",
    "import torch\n",
    "from sklearn.model_selection import train_test_split\n",
    "from sklearn.metrics import accuracy_score, recall_score, precision_score, f1_score\n",
    "from transformers import Trainer, TrainingArguments\n",
    "from transformers import DataCollatorForTokenClassification\n",
    "from tensorflow.keras.preprocessing.sequence import pad_sequences\n",
    "from transformers import BertForTokenClassification, BertTokenizerFast\n",
    "from datasets import load_metric\n",
    "from transformers import EarlyStoppingCallback"
   ]
  },
  {
   "cell_type": "markdown",
   "metadata": {
    "id": "z2uL-JJCJjLp"
   },
   "source": [
    "# Approach"
   ]
  },
  {
   "cell_type": "markdown",
   "metadata": {
    "id": "QhHbGeW1JkI9"
   },
   "source": [
    "The approach involves the use of 2 models:\n",
    "1. POI/street extraction model\n",
    "  - This model is used to extract the POI and street from the address\n",
    "2. Abbreviation detection model\n",
    "  - This model is used to detect the abbreviations in the address\n",
    "  - A dictionary mapping of the abbreviation and the original word will be created from the training data\n",
    "  - This dictionary mapping will then be used to expand the abbreviations detected by the model into their original form."
   ]
  },
  {
   "cell_type": "code",
   "execution_count": 4,
   "metadata": {
    "id": "c9m3AkgOI8QC"
   },
   "outputs": [],
   "source": [
    "train_path = '/content/drive/MyDrive/shopee_code_league/train.csv'\n",
    "test_path = '/content/drive/MyDrive/shopee_code_league/test.csv'\n",
    "\n",
    "train_df = pd.read_csv(train_path)\n",
    "test_df = pd.read_csv(test_path)"
   ]
  },
  {
   "cell_type": "code",
   "execution_count": 5,
   "metadata": {
    "colab": {
     "base_uri": "https://localhost:8080/",
     "height": 195
    },
    "id": "ycknhrxRWhU4",
    "outputId": "261f1ba6-9789-4119-9fd8-0c9962fa9f2c"
   },
   "outputs": [
    {
     "data": {
      "text/html": [
       "<div>\n",
       "<style scoped>\n",
       "    .dataframe tbody tr th:only-of-type {\n",
       "        vertical-align: middle;\n",
       "    }\n",
       "\n",
       "    .dataframe tbody tr th {\n",
       "        vertical-align: top;\n",
       "    }\n",
       "\n",
       "    .dataframe thead th {\n",
       "        text-align: right;\n",
       "    }\n",
       "</style>\n",
       "<table border=\"1\" class=\"dataframe\">\n",
       "  <thead>\n",
       "    <tr style=\"text-align: right;\">\n",
       "      <th></th>\n",
       "      <th>id</th>\n",
       "      <th>raw_address</th>\n",
       "      <th>POI/street</th>\n",
       "    </tr>\n",
       "  </thead>\n",
       "  <tbody>\n",
       "    <tr>\n",
       "      <th>0</th>\n",
       "      <td>0</td>\n",
       "      <td>jl kapuk timur delta sili iii lippo cika 11 a ...</td>\n",
       "      <td>/jl kapuk timur delta sili iii lippo cika</td>\n",
       "    </tr>\n",
       "    <tr>\n",
       "      <th>1</th>\n",
       "      <td>1</td>\n",
       "      <td>aye, jati sampurna</td>\n",
       "      <td>/</td>\n",
       "    </tr>\n",
       "    <tr>\n",
       "      <th>2</th>\n",
       "      <td>2</td>\n",
       "      <td>setu siung 119 rt 5 1 13880 cipayung</td>\n",
       "      <td>/siung</td>\n",
       "    </tr>\n",
       "    <tr>\n",
       "      <th>3</th>\n",
       "      <td>3</td>\n",
       "      <td>toko dita, kertosono</td>\n",
       "      <td>toko dita/</td>\n",
       "    </tr>\n",
       "    <tr>\n",
       "      <th>4</th>\n",
       "      <td>4</td>\n",
       "      <td>jl. orde baru</td>\n",
       "      <td>/jl. orde baru</td>\n",
       "    </tr>\n",
       "  </tbody>\n",
       "</table>\n",
       "</div>"
      ],
      "text/plain": [
       "   id  ...                                 POI/street\n",
       "0   0  ...  /jl kapuk timur delta sili iii lippo cika\n",
       "1   1  ...                                          /\n",
       "2   2  ...                                     /siung\n",
       "3   3  ...                                 toko dita/\n",
       "4   4  ...                             /jl. orde baru\n",
       "\n",
       "[5 rows x 3 columns]"
      ]
     },
     "execution_count": 5,
     "metadata": {
      "tags": []
     },
     "output_type": "execute_result"
    }
   ],
   "source": [
    "train_df.head()"
   ]
  },
  {
   "cell_type": "code",
   "execution_count": 6,
   "metadata": {
    "colab": {
     "base_uri": "https://localhost:8080/"
    },
    "id": "f3eGbEqRW2pR",
    "outputId": "b28067ee-884f-40cf-f379-e52c272e0b59"
   },
   "outputs": [
    {
     "data": {
      "text/plain": [
       "(300000, 3)"
      ]
     },
     "execution_count": 6,
     "metadata": {
      "tags": []
     },
     "output_type": "execute_result"
    }
   ],
   "source": [
    "train_df.shape"
   ]
  },
  {
   "cell_type": "markdown",
   "metadata": {
    "id": "FTFxP3w6JVmz"
   },
   "source": [
    "# Model 1: POI/Street extraction model"
   ]
  },
  {
   "cell_type": "markdown",
   "metadata": {
    "id": "5e_bVe4EaZwb"
   },
   "source": [
    "## Define pretrained tokenizer and model"
   ]
  },
  {
   "cell_type": "markdown",
   "metadata": {
    "id": "sAFt4IftuKmg"
   },
   "source": [
    "We will need to use a pretrained BERT model that is trained on an Indonesian language corpus as a starting point. From Huggingface model hub, we have selected:\n",
    "- [Indobert](https://huggingface.co/indobenchmark/indobert-base-p1)"
   ]
  },
  {
   "cell_type": "code",
   "execution_count": 7,
   "metadata": {
    "colab": {
     "base_uri": "https://localhost:8080/",
     "height": 320,
     "referenced_widgets": [
      "f53633f2d4f24031ab351f7c8e946a64",
      "4ededd1a7a0b43bc906c6f15e4a5ac4b",
      "60414048b7044e49bc88928373e033c8",
      "b9f7a254e1ce471eab08a39225b8ada1",
      "e69bb771d2c940a09c4e4da2a56159e7",
      "74ea9e18279a481abe940bc3606b0fd6",
      "521335a86177457c895c1e4f57432c92",
      "3187b136bd2b4119bc4ef3ccff2fbbd3",
      "fd918d0263254b2880f60f490fcef57c",
      "5f29f14fd8ef40b7be2b20d09d0940be",
      "28ca11df4eac4db5a2dc9368c6193342",
      "9657f8d94f1644a5950547a3bb9c859a",
      "4cee2fd33d3644a5992bc77556d7fc61",
      "b371d1c072fe413f93a8e2b8b0f4ef1d",
      "b8c297ffb91a44e19fffc47812644480",
      "8a813451b888473c9aeb59911be33d8d",
      "8f2e41ac7e474a9397b34f46ef03b5d9",
      "6217c22cb62d4c1890193c33da17e28a",
      "efabba5c89cc47f291936ea7ae9a4522",
      "3dbf68aea2ee4ad4a3a33f777cc46287",
      "361c98db13884e90b6d2884d787eb72b",
      "7c536ec2904f49a8a88388b0438f63eb",
      "d3d95a86ce844ddca4a2563ec9391d26",
      "8e52e310156b46a3a3deb01fd93a8f31",
      "3cb619741bbd453ea64204c600e3e37c",
      "41de6370c11540e8837b86e6555f81b6",
      "6cb25f698e87449387ffb55c76e4e4d6",
      "e2d28db2334049158913d52802815252",
      "417fed27f04b44a988f202db5f25595d",
      "4ac4a77c79b54a9da50f2422440ce379",
      "cb2531a1240c44a29fabce3070294431",
      "663e92c3a335426ca9cac05bed123eb7",
      "0c6f4ea7fde544bf9c391e136ee3b63a",
      "ad27f8bf3fcc460a9da3b75d0fe372ab",
      "f77c927ef5cc4f98b7a7dc6a8281b67c",
      "c1f499e3626e4fe9b5afc4150ae1bcbb",
      "3b4270d0f13746739dbc8b946d069c9a",
      "850532fa689c483294fd07fee56bb561",
      "d1f3cc2e1e66462bb903bbd48fff202e",
      "46b6ccb85db54a42aaeeaed36c4d63d8"
     ]
    },
    "id": "3oYnH5lAaZHX",
    "outputId": "b65d56cf-a579-4cbc-ef0d-a333e105d469"
   },
   "outputs": [
    {
     "data": {
      "application/vnd.jupyter.widget-view+json": {
       "model_id": "f53633f2d4f24031ab351f7c8e946a64",
       "version_major": 2,
       "version_minor": 0
      },
      "text/plain": [
       "HBox(children=(FloatProgress(value=0.0, description='Downloading', max=229167.0, style=ProgressStyle(descripti…"
      ]
     },
     "metadata": {
      "tags": []
     },
     "output_type": "display_data"
    },
    {
     "name": "stdout",
     "output_type": "stream",
     "text": [
      "\n"
     ]
    },
    {
     "data": {
      "application/vnd.jupyter.widget-view+json": {
       "model_id": "fd918d0263254b2880f60f490fcef57c",
       "version_major": 2,
       "version_minor": 0
      },
      "text/plain": [
       "HBox(children=(FloatProgress(value=0.0, description='Downloading', max=112.0, style=ProgressStyle(description_…"
      ]
     },
     "metadata": {
      "tags": []
     },
     "output_type": "display_data"
    },
    {
     "name": "stdout",
     "output_type": "stream",
     "text": [
      "\n"
     ]
    },
    {
     "data": {
      "application/vnd.jupyter.widget-view+json": {
       "model_id": "8f2e41ac7e474a9397b34f46ef03b5d9",
       "version_major": 2,
       "version_minor": 0
      },
      "text/plain": [
       "HBox(children=(FloatProgress(value=0.0, description='Downloading', max=2.0, style=ProgressStyle(description_wi…"
      ]
     },
     "metadata": {
      "tags": []
     },
     "output_type": "display_data"
    },
    {
     "name": "stdout",
     "output_type": "stream",
     "text": [
      "\n"
     ]
    },
    {
     "data": {
      "application/vnd.jupyter.widget-view+json": {
       "model_id": "3cb619741bbd453ea64204c600e3e37c",
       "version_major": 2,
       "version_minor": 0
      },
      "text/plain": [
       "HBox(children=(FloatProgress(value=0.0, description='Downloading', max=1534.0, style=ProgressStyle(description…"
      ]
     },
     "metadata": {
      "tags": []
     },
     "output_type": "display_data"
    },
    {
     "name": "stdout",
     "output_type": "stream",
     "text": [
      "\n"
     ]
    },
    {
     "data": {
      "application/vnd.jupyter.widget-view+json": {
       "model_id": "0c6f4ea7fde544bf9c391e136ee3b63a",
       "version_major": 2,
       "version_minor": 0
      },
      "text/plain": [
       "HBox(children=(FloatProgress(value=0.0, description='Downloading', max=497810400.0, style=ProgressStyle(descri…"
      ]
     },
     "metadata": {
      "tags": []
     },
     "output_type": "display_data"
    },
    {
     "name": "stdout",
     "output_type": "stream",
     "text": [
      "\n"
     ]
    },
    {
     "name": "stderr",
     "output_type": "stream",
     "text": [
      "Some weights of BertForTokenClassification were not initialized from the model checkpoint at indobenchmark/indobert-base-p1 and are newly initialized: ['classifier.bias', 'classifier.weight']\n",
      "You should probably TRAIN this model on a down-stream task to be able to use it for predictions and inference.\n"
     ]
    }
   ],
   "source": [
    "model_name = 'indobenchmark/indobert-base-p1'\n",
    "tokenizer = BertTokenizerFast.from_pretrained(model_name, do_lower_case=True)\n",
    "model = BertForTokenClassification.from_pretrained(model_name, num_labels=3)\n",
    "labels_tag = {'O': 0, 'P': 1, 'S': 2}"
   ]
  },
  {
   "cell_type": "markdown",
   "metadata": {
    "id": "Jj7Cl6K9JhHp"
   },
   "source": [
    "## Pre-processing"
   ]
  },
  {
   "cell_type": "markdown",
   "metadata": {
    "id": "G6bp490gXLHB"
   },
   "source": [
    "**Pre-processing steps:**\n",
    "1. Split poi and street into individual columns\n",
    "2. Split raw address into individual word/punctuation and create P/O/S labels\n",
    "3. Apply pretrained tokenizer to get subwords and map original word labels to subwords\n",
    "  - After tokenizing the words, some words will be split into subwords, so the length of the tokenized words will be different from the original length\n",
    "  - Additional steps are needed to map the labels to the newly created subwords\n",
    "4. Convert list of dicts to dict\n",
    "  - We will need the data to be in the form of dictionary for it to work with the torch dataset class which we will be creating below\n",
    "5. Perform padding on X and y\n",
    "  - Perform padding to make all instances same length\n",
    "  - Use -100 for the padding of labels\n",
    "    - -100 tokens are ignored by the model\n",
    "  - Use 0 for the padding of inputs\n",
    "7. Train val split\n",
    "  - 80-20 split\n",
    "8. Create torch dataset\n",
    "  - As we will be using Huggingface Trainer to train, we will need to create a torch dataset class "
   ]
  },
  {
   "cell_type": "code",
   "execution_count": 8,
   "metadata": {
    "colab": {
     "base_uri": "https://localhost:8080/",
     "height": 195
    },
    "id": "Ngo-8T3kXyoV",
    "outputId": "2ab74bff-4307-4518-d3e6-f4f957aba2c2"
   },
   "outputs": [
    {
     "data": {
      "text/html": [
       "<div>\n",
       "<style scoped>\n",
       "    .dataframe tbody tr th:only-of-type {\n",
       "        vertical-align: middle;\n",
       "    }\n",
       "\n",
       "    .dataframe tbody tr th {\n",
       "        vertical-align: top;\n",
       "    }\n",
       "\n",
       "    .dataframe thead th {\n",
       "        text-align: right;\n",
       "    }\n",
       "</style>\n",
       "<table border=\"1\" class=\"dataframe\">\n",
       "  <thead>\n",
       "    <tr style=\"text-align: right;\">\n",
       "      <th></th>\n",
       "      <th>id</th>\n",
       "      <th>raw_address</th>\n",
       "      <th>POI/street</th>\n",
       "      <th>POI</th>\n",
       "      <th>street</th>\n",
       "    </tr>\n",
       "  </thead>\n",
       "  <tbody>\n",
       "    <tr>\n",
       "      <th>0</th>\n",
       "      <td>0</td>\n",
       "      <td>jl kapuk timur delta sili iii lippo cika 11 a ...</td>\n",
       "      <td>/jl kapuk timur delta sili iii lippo cika</td>\n",
       "      <td></td>\n",
       "      <td>jl kapuk timur delta sili iii lippo cika</td>\n",
       "    </tr>\n",
       "    <tr>\n",
       "      <th>1</th>\n",
       "      <td>1</td>\n",
       "      <td>aye, jati sampurna</td>\n",
       "      <td>/</td>\n",
       "      <td></td>\n",
       "      <td></td>\n",
       "    </tr>\n",
       "    <tr>\n",
       "      <th>2</th>\n",
       "      <td>2</td>\n",
       "      <td>setu siung 119 rt 5 1 13880 cipayung</td>\n",
       "      <td>/siung</td>\n",
       "      <td></td>\n",
       "      <td>siung</td>\n",
       "    </tr>\n",
       "    <tr>\n",
       "      <th>3</th>\n",
       "      <td>3</td>\n",
       "      <td>toko dita, kertosono</td>\n",
       "      <td>toko dita/</td>\n",
       "      <td>toko dita</td>\n",
       "      <td></td>\n",
       "    </tr>\n",
       "    <tr>\n",
       "      <th>4</th>\n",
       "      <td>4</td>\n",
       "      <td>jl. orde baru</td>\n",
       "      <td>/jl. orde baru</td>\n",
       "      <td></td>\n",
       "      <td>jl. orde baru</td>\n",
       "    </tr>\n",
       "  </tbody>\n",
       "</table>\n",
       "</div>"
      ],
      "text/plain": [
       "   id  ...                                    street\n",
       "0   0  ...  jl kapuk timur delta sili iii lippo cika\n",
       "1   1  ...                                          \n",
       "2   2  ...                                     siung\n",
       "3   3  ...                                          \n",
       "4   4  ...                             jl. orde baru\n",
       "\n",
       "[5 rows x 5 columns]"
      ]
     },
     "execution_count": 8,
     "metadata": {
      "tags": []
     },
     "output_type": "execute_result"
    }
   ],
   "source": [
    "# 1. Split poi and street into individual columns\n",
    "train_df[['POI','street']] = train_df['POI/street'].str.split(\"/\",expand=True)\n",
    "train_df.head()"
   ]
  },
  {
   "cell_type": "code",
   "execution_count": 9,
   "metadata": {
    "id": "4Ck_lL9UI-0m"
   },
   "outputs": [],
   "source": [
    "# 2. Split raw address into individual word/punctuation and create P/O/S labels\n",
    "raw_addresses = []\n",
    "labels = []\n",
    "for index in train_df.index:\n",
    "    # Find individual tokens including punctuation\n",
    "    token = re.findall(r\"[\\w]+|[^\\s\\w]\", train_df.loc[index,'raw_address'])\n",
    "    raw_addresses.append(token) #append full set of tokens for each address\n",
    "    \n",
    "    token_tag = []\n",
    "    for t in token:\n",
    "        if (t in train_df.loc[index,'POI']):\n",
    "            token_tag.append('P')\n",
    "        elif (t in train_df.loc[index,'street']):\n",
    "            token_tag.append('S')\n",
    "        else:\n",
    "            token_tag.append('O')\n",
    "                \n",
    "    labels.append(token_tag) #append full set of label for each row"
   ]
  },
  {
   "cell_type": "code",
   "execution_count": 10,
   "metadata": {
    "colab": {
     "base_uri": "https://localhost:8080/"
    },
    "id": "dsP8GZyBXCPq",
    "outputId": "aa327202-bcca-4b90-fdcd-5986923c8ace"
   },
   "outputs": [
    {
     "name": "stdout",
     "output_type": "stream",
     "text": [
      "raw_addresses ['setu', 'siung', '119', 'rt', '5', '1', '13880', 'cipayung']\n",
      "labels ['O', 'S', 'O', 'O', 'O', 'O', 'O', 'O']\n"
     ]
    }
   ],
   "source": [
    "# Preview raw addresses and labels for single instance\n",
    "print('raw_addresses', raw_addresses[2])\n",
    "print('labels', labels[2])"
   ]
  },
  {
   "cell_type": "code",
   "execution_count": 11,
   "metadata": {
    "id": "z-sfQwK4aSY8"
   },
   "outputs": [],
   "source": [
    "# 3. Apply pretrained tokenizer to get subwords and map original word labels to subwords\n",
    "\n",
    "labels_tag = {'O': 0, 'P': 1, 'S': 2}\n",
    "\n",
    "tokenized_raw_addresses = []\n",
    "tokenized_labels = []\n",
    "for raw_address, label in zip(raw_addresses, labels):\n",
    "\n",
    "    tokenized_inputs = tokenizer(raw_address, is_split_into_words=True)\n",
    "    word_ids = tokenized_inputs.word_ids()\n",
    "\n",
    "    tokenized_labels_single = []\n",
    "    for idx in word_ids:\n",
    "        if idx == None:\n",
    "            tokenized_labels_single.append(-100)\n",
    "        else:\n",
    "            label_token= label[int(idx)]\n",
    "            label_no = labels_tag[label_token]\n",
    "            tokenized_labels_single.append(label_no)\n",
    "\n",
    "    tokenized_raw_addresses.append(tokenized_inputs)\n",
    "    tokenized_labels.append(tokenized_labels_single) "
   ]
  },
  {
   "cell_type": "code",
   "execution_count": 12,
   "metadata": {
    "colab": {
     "base_uri": "https://localhost:8080/"
    },
    "id": "jc3Q_OZQc2WC",
    "outputId": "e3cb1f16-2540-4c95-efc8-6ffece5b4db8"
   },
   "outputs": [
    {
     "name": "stdout",
     "output_type": "stream",
     "text": [
      "tokenized_raw_addresses:  {'input_ids': [2, 30319, 27505, 17689, 4345, 418, 111, 20092, 3193, 5908, 21562, 3], 'token_type_ids': [0, 0, 0, 0, 0, 0, 0, 0, 0, 0, 0, 0], 'attention_mask': [1, 1, 1, 1, 1, 1, 1, 1, 1, 1, 1, 1]}\n",
      "tokenized_labels:  [-100, 0, 2, 0, 0, 0, 0, 0, 0, 0, 0, -100]\n"
     ]
    }
   ],
   "source": [
    "# Preview tokenized text and labels\n",
    "print('tokenized_raw_addresses: ', tokenized_raw_addresses[2])\n",
    "print('tokenized_labels: ', tokenized_labels[2])"
   ]
  },
  {
   "cell_type": "code",
   "execution_count": 13,
   "metadata": {
    "id": "98gLFl2Md4rm"
   },
   "outputs": [],
   "source": [
    "# 4. Convert list of dicts to dict\n",
    "# perform padding \n",
    "X_dict = {}\n",
    "X_dict['input_ids'] = []\n",
    "X_dict['attention_mask'] = []\n",
    "X_dict['token_type_ids'] = []\n",
    "\n",
    "for i in range(len(tokenized_raw_addresses)):\n",
    "    inputs_ids = tokenized_raw_addresses[i]['input_ids']\n",
    "    attention_mask = tokenized_raw_addresses[i]['attention_mask']\n",
    "    token_type_ids = tokenized_raw_addresses[i]['token_type_ids']\n",
    "\n",
    "    X_dict['input_ids'].append(inputs_ids)\n",
    "    X_dict['attention_mask'].append(attention_mask)\n",
    "    X_dict['token_type_ids'].append(token_type_ids)"
   ]
  },
  {
   "cell_type": "code",
   "execution_count": 14,
   "metadata": {
    "id": "IIi6R85CfFjV"
   },
   "outputs": [],
   "source": [
    "# 5. Perform padding on X and y\n",
    "# pad sequences to len of 100\n",
    "\n",
    "# Add -100 to padding for y\n",
    "y = pad_sequences(tokenized_labels, maxlen=100, value=-100, dtype=\"long\", padding='post')\n",
    "\n",
    "# Add 0 to padding for X\n",
    "for k,v in X_dict.items():\n",
    "    X_dict[k] = pad_sequences(v, maxlen=100, value=0, dtype=\"long\", padding='post')"
   ]
  },
  {
   "cell_type": "code",
   "execution_count": 15,
   "metadata": {
    "colab": {
     "base_uri": "https://localhost:8080/"
    },
    "id": "C707j1qFjWQz",
    "outputId": "7c528592-4ba1-4380-93ab-22dfa3082f42"
   },
   "outputs": [
    {
     "name": "stderr",
     "output_type": "stream",
     "text": [
      "/usr/local/lib/python3.7/dist-packages/ipykernel_launcher.py:14: FutureWarning: Using a non-tuple sequence for multidimensional indexing is deprecated; use `arr[tuple(seq)]` instead of `arr[seq]`. In the future this will be interpreted as an array index, `arr[np.array(seq)]`, which will result either in an error or a different result.\n",
      "  \n",
      "/usr/local/lib/python3.7/dist-packages/ipykernel_launcher.py:20: FutureWarning: Using a non-tuple sequence for multidimensional indexing is deprecated; use `arr[tuple(seq)]` instead of `arr[seq]`. In the future this will be interpreted as an array index, `arr[np.array(seq)]`, which will result either in an error or a different result.\n"
     ]
    }
   ],
   "source": [
    "# 7. Train val split\n",
    "\n",
    "# Get train and val indices\n",
    "data_len = len(train_df)\n",
    "test_size=0.2\n",
    "seed = 0\n",
    "np.random.seed(seed)\n",
    "val_indices = np.random.choice(data_len, int(test_size*data_len), replace=False)\n",
    "train_indices = [idx for idx in list(range(data_len)) if idx not in val_indices]\n",
    "\n",
    "# Train set\n",
    "X_train = {}\n",
    "for k,v in X_dict.items():\n",
    "    X_train[k] = v[[train_indices]]\n",
    "y_train = y[train_indices]\n",
    "\n",
    "# Val set\n",
    "X_val = {}\n",
    "for k,v in X_dict.items():\n",
    "    X_val[k] = v[[val_indices]]\n",
    "y_val = y[val_indices]"
   ]
  },
  {
   "cell_type": "code",
   "execution_count": 16,
   "metadata": {
    "id": "NTvVBYXYffq4"
   },
   "outputs": [],
   "source": [
    "# 8. Create torch dataset\n",
    "class Dataset(torch.utils.data.Dataset):\n",
    "    def __init__(self, encodings, labels=None):\n",
    "        self.encodings = encodings\n",
    "        self.labels = labels\n",
    "\n",
    "    def __getitem__(self, idx):\n",
    "        item = {key: torch.tensor(val[idx]) for key, val in self.encodings.items()}\n",
    "        if isinstance(self.labels, np.ndarray):\n",
    "            item[\"labels\"] = torch.tensor(self.labels[idx])\n",
    "        return item\n",
    "\n",
    "    def __len__(self):\n",
    "        return len(self.encodings[\"input_ids\"])\n",
    "\n",
    "train_dataset_pos = Dataset(X_train, y_train)\n",
    "val_dataset_pos = Dataset(X_val, y_val)"
   ]
  },
  {
   "cell_type": "markdown",
   "metadata": {
    "id": "hPZkeUrLKkJD"
   },
   "source": [
    "## Model Training"
   ]
  },
  {
   "cell_type": "markdown",
   "metadata": {
    "id": "QpMtOF4_wdvF"
   },
   "source": [
    "We will be trainign the model using Huggingface's Trainer API as it is a much simpler way of training pretrained models as compared to using native Pytorch or Tensorflow"
   ]
  },
  {
   "cell_type": "code",
   "execution_count": null,
   "metadata": {
    "colab": {
     "base_uri": "https://localhost:8080/",
     "height": 889
    },
    "id": "k-y0ivjbl9W8",
    "outputId": "f9d4164a-6268-4e9c-e247-8eebd64af728"
   },
   "outputs": [
    {
     "data": {
      "text/html": [
       "\n",
       "    <div>\n",
       "        <style>\n",
       "            /* Turns off some styling */\n",
       "            progress {\n",
       "                /* gets rid of default border in Firefox and Opera. */\n",
       "                border: none;\n",
       "                /* Needs to be in here for Safari polyfill so background images work as expected. */\n",
       "                background-size: auto;\n",
       "            }\n",
       "        </style>\n",
       "      \n",
       "      <progress value='36000' max='45000' style='width:300px; height:20px; vertical-align: middle;'></progress>\n",
       "      [36000/45000 4:46:02 < 1:11:30, 2.10 it/s, Epoch 2/3]\n",
       "    </div>\n",
       "    <table border=\"1\" class=\"dataframe\">\n",
       "  <thead>\n",
       "    <tr style=\"text-align: left;\">\n",
       "      <th>Step</th>\n",
       "      <th>Training Loss</th>\n",
       "      <th>Validation Loss</th>\n",
       "      <th>Precision</th>\n",
       "      <th>Recall</th>\n",
       "      <th>F1</th>\n",
       "      <th>Accuracy</th>\n",
       "      <th>Runtime</th>\n",
       "      <th>Samples Per Second</th>\n",
       "    </tr>\n",
       "  </thead>\n",
       "  <tbody>\n",
       "    <tr>\n",
       "      <td>3000</td>\n",
       "      <td>0.275100</td>\n",
       "      <td>0.271909</td>\n",
       "      <td>0.844664</td>\n",
       "      <td>0.927359</td>\n",
       "      <td>0.884082</td>\n",
       "      <td>0.904786</td>\n",
       "      <td>439.202800</td>\n",
       "      <td>136.611000</td>\n",
       "    </tr>\n",
       "    <tr>\n",
       "      <td>6000</td>\n",
       "      <td>0.256100</td>\n",
       "      <td>0.248535</td>\n",
       "      <td>0.854358</td>\n",
       "      <td>0.941225</td>\n",
       "      <td>0.895690</td>\n",
       "      <td>0.912626</td>\n",
       "      <td>438.859400</td>\n",
       "      <td>136.718000</td>\n",
       "    </tr>\n",
       "    <tr>\n",
       "      <td>9000</td>\n",
       "      <td>0.247400</td>\n",
       "      <td>0.242868</td>\n",
       "      <td>0.863669</td>\n",
       "      <td>0.941868</td>\n",
       "      <td>0.901075</td>\n",
       "      <td>0.916115</td>\n",
       "      <td>439.571500</td>\n",
       "      <td>136.497000</td>\n",
       "    </tr>\n",
       "    <tr>\n",
       "      <td>12000</td>\n",
       "      <td>0.245900</td>\n",
       "      <td>0.234792</td>\n",
       "      <td>0.861731</td>\n",
       "      <td>0.953731</td>\n",
       "      <td>0.905400</td>\n",
       "      <td>0.918985</td>\n",
       "      <td>438.563200</td>\n",
       "      <td>136.810000</td>\n",
       "    </tr>\n",
       "    <tr>\n",
       "      <td>15000</td>\n",
       "      <td>0.235400</td>\n",
       "      <td>0.228539</td>\n",
       "      <td>0.869024</td>\n",
       "      <td>0.947365</td>\n",
       "      <td>0.906505</td>\n",
       "      <td>0.921263</td>\n",
       "      <td>441.843800</td>\n",
       "      <td>135.795000</td>\n",
       "    </tr>\n",
       "    <tr>\n",
       "      <td>18000</td>\n",
       "      <td>0.215200</td>\n",
       "      <td>0.231504</td>\n",
       "      <td>0.868393</td>\n",
       "      <td>0.949901</td>\n",
       "      <td>0.907320</td>\n",
       "      <td>0.922125</td>\n",
       "      <td>440.276100</td>\n",
       "      <td>136.278000</td>\n",
       "    </tr>\n",
       "    <tr>\n",
       "      <td>21000</td>\n",
       "      <td>0.209100</td>\n",
       "      <td>0.227666</td>\n",
       "      <td>0.853605</td>\n",
       "      <td>0.969951</td>\n",
       "      <td>0.908066</td>\n",
       "      <td>0.922537</td>\n",
       "      <td>439.683200</td>\n",
       "      <td>136.462000</td>\n",
       "    </tr>\n",
       "    <tr>\n",
       "      <td>24000</td>\n",
       "      <td>0.204600</td>\n",
       "      <td>0.227088</td>\n",
       "      <td>0.864957</td>\n",
       "      <td>0.960178</td>\n",
       "      <td>0.910084</td>\n",
       "      <td>0.924097</td>\n",
       "      <td>440.034000</td>\n",
       "      <td>136.353000</td>\n",
       "    </tr>\n",
       "    <tr>\n",
       "      <td>27000</td>\n",
       "      <td>0.212800</td>\n",
       "      <td>0.217875</td>\n",
       "      <td>0.866612</td>\n",
       "      <td>0.963080</td>\n",
       "      <td>0.912303</td>\n",
       "      <td>0.926067</td>\n",
       "      <td>439.737400</td>\n",
       "      <td>136.445000</td>\n",
       "    </tr>\n",
       "    <tr>\n",
       "      <td>30000</td>\n",
       "      <td>0.203700</td>\n",
       "      <td>0.217609</td>\n",
       "      <td>0.869490</td>\n",
       "      <td>0.963621</td>\n",
       "      <td>0.914138</td>\n",
       "      <td>0.926981</td>\n",
       "      <td>440.703200</td>\n",
       "      <td>136.146000</td>\n",
       "    </tr>\n",
       "    <tr>\n",
       "      <td>33000</td>\n",
       "      <td>0.182300</td>\n",
       "      <td>0.230505</td>\n",
       "      <td>0.866586</td>\n",
       "      <td>0.964140</td>\n",
       "      <td>0.912764</td>\n",
       "      <td>0.926313</td>\n",
       "      <td>439.153900</td>\n",
       "      <td>136.626000</td>\n",
       "    </tr>\n",
       "    <tr>\n",
       "      <td>36000</td>\n",
       "      <td>0.183500</td>\n",
       "      <td>0.227686</td>\n",
       "      <td>0.868064</td>\n",
       "      <td>0.965741</td>\n",
       "      <td>0.914301</td>\n",
       "      <td>0.926894</td>\n",
       "      <td>440.226100</td>\n",
       "      <td>136.294000</td>\n",
       "    </tr>\n",
       "  </tbody>\n",
       "</table><p>"
      ],
      "text/plain": [
       "<IPython.core.display.HTML object>"
      ]
     },
     "metadata": {
      "tags": []
     },
     "output_type": "display_data"
    },
    {
     "name": "stderr",
     "output_type": "stream",
     "text": [
      "/usr/local/lib/python3.7/dist-packages/seqeval/metrics/sequence_labeling.py:171: UserWarning: P seems not to be NE tag.\n",
      "  warnings.warn('{} seems not to be NE tag.'.format(chunk))\n",
      "/usr/local/lib/python3.7/dist-packages/seqeval/metrics/sequence_labeling.py:171: UserWarning: P seems not to be NE tag.\n",
      "  warnings.warn('{} seems not to be NE tag.'.format(chunk))\n",
      "/usr/local/lib/python3.7/dist-packages/seqeval/metrics/sequence_labeling.py:171: UserWarning: P seems not to be NE tag.\n",
      "  warnings.warn('{} seems not to be NE tag.'.format(chunk))\n",
      "/usr/local/lib/python3.7/dist-packages/seqeval/metrics/sequence_labeling.py:171: UserWarning: P seems not to be NE tag.\n",
      "  warnings.warn('{} seems not to be NE tag.'.format(chunk))\n",
      "/usr/local/lib/python3.7/dist-packages/seqeval/metrics/sequence_labeling.py:171: UserWarning: P seems not to be NE tag.\n",
      "  warnings.warn('{} seems not to be NE tag.'.format(chunk))\n",
      "/usr/local/lib/python3.7/dist-packages/seqeval/metrics/sequence_labeling.py:171: UserWarning: P seems not to be NE tag.\n",
      "  warnings.warn('{} seems not to be NE tag.'.format(chunk))\n",
      "/usr/local/lib/python3.7/dist-packages/seqeval/metrics/sequence_labeling.py:171: UserWarning: P seems not to be NE tag.\n",
      "  warnings.warn('{} seems not to be NE tag.'.format(chunk))\n",
      "/usr/local/lib/python3.7/dist-packages/seqeval/metrics/sequence_labeling.py:171: UserWarning: P seems not to be NE tag.\n",
      "  warnings.warn('{} seems not to be NE tag.'.format(chunk))\n",
      "/usr/local/lib/python3.7/dist-packages/seqeval/metrics/sequence_labeling.py:171: UserWarning: P seems not to be NE tag.\n",
      "  warnings.warn('{} seems not to be NE tag.'.format(chunk))\n",
      "/usr/local/lib/python3.7/dist-packages/seqeval/metrics/sequence_labeling.py:171: UserWarning: P seems not to be NE tag.\n",
      "  warnings.warn('{} seems not to be NE tag.'.format(chunk))\n",
      "/usr/local/lib/python3.7/dist-packages/seqeval/metrics/sequence_labeling.py:171: UserWarning: P seems not to be NE tag.\n",
      "  warnings.warn('{} seems not to be NE tag.'.format(chunk))\n",
      "/usr/local/lib/python3.7/dist-packages/seqeval/metrics/sequence_labeling.py:171: UserWarning: P seems not to be NE tag.\n",
      "  warnings.warn('{} seems not to be NE tag.'.format(chunk))\n"
     ]
    },
    {
     "data": {
      "text/plain": [
       "TrainOutput(global_step=36000, training_loss=0.2271694189707438, metrics={'train_runtime': 17163.5671, 'train_samples_per_second': 2.622, 'total_flos': 4.28036171904e+16, 'epoch': 2.4, 'init_mem_cpu_alloc_delta': 24814215, 'init_mem_gpu_alloc_delta': 0, 'init_mem_cpu_peaked_delta': 12979449, 'init_mem_gpu_peaked_delta': 1024, 'train_mem_cpu_alloc_delta': 3344638, 'train_mem_gpu_alloc_delta': 1995403776, 'train_mem_cpu_peaked_delta': 281288683, 'train_mem_gpu_peaked_delta': 828575232})"
      ]
     },
     "execution_count": 45,
     "metadata": {
      "tags": []
     },
     "output_type": "execute_result"
    }
   ],
   "source": [
    "label_list = ['O', 'P', 'S']\n",
    "metric = load_metric(\"seqeval\")\n",
    "\n",
    "def compute_metrics(p):\n",
    "    predictions, labels = p\n",
    "    predictions = np.argmax(predictions, axis=2)\n",
    "\n",
    "    # Remove ignored index (special tokens)\n",
    "    true_predictions = [\n",
    "        [label_list[p] for (p, l) in zip(prediction, label) if l != -100]\n",
    "        for prediction, label in zip(predictions, labels)\n",
    "    ]\n",
    "    true_labels = [\n",
    "        [label_list[l] for (p, l) in zip(prediction, label) if l != -100]\n",
    "        for prediction, label in zip(predictions, labels)\n",
    "    ]\n",
    "\n",
    "    results = metric.compute(predictions=true_predictions, references=true_labels)\n",
    "    return {\n",
    "        \"precision\": results[\"overall_precision\"],\n",
    "        \"recall\": results[\"overall_recall\"],\n",
    "        \"f1\": results[\"overall_f1\"],\n",
    "        \"accuracy\": results[\"overall_accuracy\"],\n",
    "    }\n",
    "\n",
    "args = TrainingArguments(\n",
    "    '/content/drive/MyDrive/shopee_code_league/poi_street_model',\n",
    "    evaluation_strategy = \"steps\",\n",
    "    eval_steps=3000,\n",
    "    learning_rate=2e-5,\n",
    "    per_device_train_batch_size=16,\n",
    "    per_device_eval_batch_size=16,\n",
    "    num_train_epochs=3,\n",
    "    weight_decay=0.01,\n",
    "    save_steps=3000,\n",
    "    seed=0,\n",
    "    load_best_model_at_end=True,\n",
    "    save_total_limit=3\n",
    ")\n",
    "\n",
    "pos_trainer = Trainer(\n",
    "    model,\n",
    "    args,\n",
    "    train_dataset=train_dataset_pos,\n",
    "    eval_dataset=val_dataset_pos,\n",
    "    compute_metrics=compute_metrics,\n",
    "    callbacks = [EarlyStoppingCallback(early_stopping_patience=2)]\n",
    ")\n",
    "\n",
    "pos_trainer.train()"
   ]
  },
  {
   "cell_type": "markdown",
   "metadata": {
    "id": "WWLkzMj9LY04"
   },
   "source": [
    "## Evaluating model performance"
   ]
  },
  {
   "cell_type": "markdown",
   "metadata": {
    "id": "l4cqp-tGm8aF"
   },
   "source": [
    "1. Evaluating on generated labels\n",
    "  - Evaluate model performance on detecting P/O/S labels \n",
    "  - P/O/S labels were created manually\n",
    "2. Evaluating on original text\n",
    "  - Decoding the P and S tokens back into words\n",
    "  - Evaluating the accuracy of the predicted words with the POI/street provided"
   ]
  },
  {
   "cell_type": "code",
   "execution_count": 17,
   "metadata": {
    "id": "hdZcH9954YtY"
   },
   "outputs": [],
   "source": [
    "model_path = '/content/drive/MyDrive/shopee_code_league/best_pos_model/checkpoint-27000'\n",
    "model =  BertForTokenClassification.from_pretrained(model_path, num_labels=3)\n",
    "trained_pos_trainer = Trainer(model)"
   ]
  },
  {
   "cell_type": "code",
   "execution_count": 20,
   "metadata": {
    "colab": {
     "base_uri": "https://localhost:8080/",
     "height": 262,
     "referenced_widgets": [
      "bb4fccfd453f44f885967435461f3921",
      "635ddecf5e354f76827fc06d625768c2",
      "7a95e3f6ba2f4bf396c7f6a8673babb8",
      "953f64d7263a4df08c666d25ce84ba88",
      "5c10146dd99c4f85834e7de18b8e9c70",
      "74e09eed31094689ab87952bf018522d",
      "1b81b69e3ac241789c0fd9bb8650236f",
      "2a0ac5a200244df29669eef59a32fbff"
     ]
    },
    "id": "qZbboEO8mo5O",
    "outputId": "9bd2b3d3-4b83-4f40-9198-4efa8446ac81"
   },
   "outputs": [
    {
     "data": {
      "text/html": [
       "\n",
       "    <div>\n",
       "        <style>\n",
       "            /* Turns off some styling */\n",
       "            progress {\n",
       "                /* gets rid of default border in Firefox and Opera. */\n",
       "                border: none;\n",
       "                /* Needs to be in here for Safari polyfill so background images work as expected. */\n",
       "                background-size: auto;\n",
       "            }\n",
       "        </style>\n",
       "      \n",
       "      <progress value='22500' max='7500' style='width:300px; height:20px; vertical-align: middle;'></progress>\n",
       "      [7500/7500 48:20]\n",
       "    </div>\n",
       "    "
      ],
      "text/plain": [
       "<IPython.core.display.HTML object>"
      ]
     },
     "metadata": {
      "tags": []
     },
     "output_type": "display_data"
    },
    {
     "data": {
      "application/vnd.jupyter.widget-view+json": {
       "model_id": "bb4fccfd453f44f885967435461f3921",
       "version_major": 2,
       "version_minor": 0
      },
      "text/plain": [
       "HBox(children=(FloatProgress(value=0.0, description='Downloading', max=1961.0, style=ProgressStyle(description…"
      ]
     },
     "metadata": {
      "tags": []
     },
     "output_type": "display_data"
    },
    {
     "name": "stdout",
     "output_type": "stream",
     "text": [
      "\n"
     ]
    },
    {
     "name": "stderr",
     "output_type": "stream",
     "text": [
      "/usr/local/lib/python3.7/dist-packages/seqeval/metrics/sequence_labeling.py:171: UserWarning: P seems not to be NE tag.\n",
      "  warnings.warn('{} seems not to be NE tag.'.format(chunk))\n"
     ]
    },
    {
     "data": {
      "text/plain": [
       "{'_': {'f1': 0.9247763424641421,\n",
       "  'number': 136809,\n",
       "  'precision': 0.8778842553974082,\n",
       "  'recall': 0.9769605800787959},\n",
       " 'overall_accuracy': 0.9354055698541972,\n",
       " 'overall_f1': 0.9247763424641421,\n",
       " 'overall_precision': 0.8778842553974082,\n",
       " 'overall_recall': 0.9769605800787959}"
      ]
     },
     "execution_count": 20,
     "metadata": {
      "tags": []
     },
     "output_type": "execute_result"
    }
   ],
   "source": [
    "# 1. Evaluating on generated labels\n",
    "predictions, labels, _ = trained_pos_trainer.predict(val_dataset_pos)\n",
    "predictions_argmax = np.argmax(predictions, axis=2)\n",
    "metric = load_metric(\"seqeval\")\n",
    "label_list = ['O', 'P', 'S']\n",
    "\n",
    "# Remove ignored index (special tokens)\n",
    "true_predictions = [\n",
    "    [label_list[p] for (p, l) in zip(prediction, label) if l != -100]\n",
    "    for prediction, label in zip(predictions_argmax, labels)\n",
    "]\n",
    "true_labels = [\n",
    "    [label_list[l] for (p, l) in zip(prediction, label) if l != -100]\n",
    "    for prediction, label in zip(predictions_argmax, labels)\n",
    "]\n",
    "\n",
    "results = metric.compute(predictions=true_predictions, references=true_labels)\n",
    "results"
   ]
  },
  {
   "cell_type": "code",
   "execution_count": 21,
   "metadata": {
    "id": "5cZBmwEQnOBO"
   },
   "outputs": [],
   "source": [
    "# Decode pred to words\n",
    "\n",
    "y_pred = []\n",
    "for i in range(len(true_predictions)):\n",
    "    true_pred = true_predictions[i]\n",
    "    token_ids = X_val['input_ids'][i]\n",
    "    token_ids = list(token_ids)[1:len(true_pred)+1] # use same length as pred\n",
    "\n",
    "    street_single = []\n",
    "    poi_single = []\n",
    "    for pred_tag, token_id in zip(true_pred,token_ids):\n",
    "    if pred_tag == 'P':\n",
    "        poi_single.append(token_id)\n",
    "    elif pred_tag =='S':\n",
    "        street_single.append(token_id)\n",
    "\n",
    "    poi_single_decoded = tokenizer.decode(poi_single)\n",
    "    street_single_decoded = tokenizer.decode(street_single)\n",
    "    y_pred.append(poi_single_decoded + '/' + street_single_decoded)"
   ]
  },
  {
   "cell_type": "code",
   "execution_count": 22,
   "metadata": {
    "colab": {
     "base_uri": "https://localhost:8080/"
    },
    "id": "GAPdcadbnAoD",
    "outputId": "c3eaca87-a8f0-4da9-ee4b-24e205ca9c89"
   },
   "outputs": [
    {
     "name": "stdout",
     "output_type": "stream",
     "text": [
      "text accuracy: 0.5885666666666667\n"
     ]
    },
    {
     "name": "stderr",
     "output_type": "stream",
     "text": [
      "/usr/local/lib/python3.7/dist-packages/ipykernel_launcher.py:2: SettingWithCopyWarning: \n",
      "A value is trying to be set on a copy of a slice from a DataFrame.\n",
      "Try using .loc[row_indexer,col_indexer] = value instead\n",
      "\n",
      "See the caveats in the documentation: https://pandas.pydata.org/pandas-docs/stable/user_guide/indexing.html#returning-a-view-versus-a-copy\n",
      "  \n"
     ]
    }
   ],
   "source": [
    "# 2. Evaluating on original text\n",
    "val_df_pos = train_df.iloc[val_indices,:]\n",
    "val_df_pos['y_pred'] = y_pred\n",
    "\n",
    "print('text accuracy:', np.average(val_df_pos['POI/street']==val_df_pos['y_pred']))"
   ]
  },
  {
   "cell_type": "code",
   "execution_count": 23,
   "metadata": {
    "colab": {
     "base_uri": "https://localhost:8080/",
     "height": 195
    },
    "id": "8PJxO88MntKY",
    "outputId": "be756e7a-67b3-4c8c-ba9c-78a9a7a553af"
   },
   "outputs": [
    {
     "data": {
      "text/html": [
       "<div>\n",
       "<style scoped>\n",
       "    .dataframe tbody tr th:only-of-type {\n",
       "        vertical-align: middle;\n",
       "    }\n",
       "\n",
       "    .dataframe tbody tr th {\n",
       "        vertical-align: top;\n",
       "    }\n",
       "\n",
       "    .dataframe thead th {\n",
       "        text-align: right;\n",
       "    }\n",
       "</style>\n",
       "<table border=\"1\" class=\"dataframe\">\n",
       "  <thead>\n",
       "    <tr style=\"text-align: right;\">\n",
       "      <th></th>\n",
       "      <th>raw_address</th>\n",
       "      <th>POI/street</th>\n",
       "      <th>y_pred</th>\n",
       "    </tr>\n",
       "  </thead>\n",
       "  <tbody>\n",
       "    <tr>\n",
       "      <th>112692</th>\n",
       "      <td>warung bakso ser bah, 64157</td>\n",
       "      <td>warung bakso/ser bah</td>\n",
       "      <td>warung bakso ser bah/</td>\n",
       "    </tr>\n",
       "    <tr>\n",
       "      <th>19498</th>\n",
       "      <td>komplek graha teluk jakarta blok.ac 5 no.7 clu...</td>\n",
       "      <td>komplek graha teluk jakarta/</td>\n",
       "      <td>komplek graha teluk jakarta/</td>\n",
       "    </tr>\n",
       "    <tr>\n",
       "      <th>31689</th>\n",
       "      <td>gedung menara enjiniring - pln enjiniring lant...</td>\n",
       "      <td>menara enjiniring/jl. ciputat raya</td>\n",
       "      <td>menara enjiniring enjiniring/jl. ciputat raya.</td>\n",
       "    </tr>\n",
       "    <tr>\n",
       "      <th>231780</th>\n",
       "      <td>kepuharjo nan 28 lumajang</td>\n",
       "      <td>/</td>\n",
       "      <td>/nan</td>\n",
       "    </tr>\n",
       "    <tr>\n",
       "      <th>4298</th>\n",
       "      <td>kejayaan 17 4 7 krukut rt 11 1 taman sari</td>\n",
       "      <td>/kejayaan</td>\n",
       "      <td>/kejayaan</td>\n",
       "    </tr>\n",
       "  </tbody>\n",
       "</table>\n",
       "</div>"
      ],
      "text/plain": [
       "                                              raw_address  ...                                          y_pred\n",
       "112692                        warung bakso ser bah, 64157  ...                           warung bakso ser bah/\n",
       "19498   komplek graha teluk jakarta blok.ac 5 no.7 clu...  ...                    komplek graha teluk jakarta/\n",
       "31689   gedung menara enjiniring - pln enjiniring lant...  ...  menara enjiniring enjiniring/jl. ciputat raya.\n",
       "231780                          kepuharjo nan 28 lumajang  ...                                            /nan\n",
       "4298            kejayaan 17 4 7 krukut rt 11 1 taman sari  ...                                       /kejayaan\n",
       "\n",
       "[5 rows x 3 columns]"
      ]
     },
     "execution_count": 23,
     "metadata": {
      "tags": []
     },
     "output_type": "execute_result"
    }
   ],
   "source": [
    "# Preview prediction\n",
    "val_df_pos[['raw_address','POI/street','y_pred']].head()"
   ]
  },
  {
   "cell_type": "markdown",
   "metadata": {
    "id": "TCq05_yMKS4I"
   },
   "source": [
    "# Model 2: Abbreviation detection model"
   ]
  },
  {
   "cell_type": "markdown",
   "metadata": {
    "id": "QyM7KmW_0Kr_"
   },
   "source": [
    "## Define pretrained tokenizer and model"
   ]
  },
  {
   "cell_type": "code",
   "execution_count": 24,
   "metadata": {
    "colab": {
     "base_uri": "https://localhost:8080/"
    },
    "id": "mVurcmny0THK",
    "outputId": "5bfd5e9e-9685-424e-b210-5a18d2e66de5"
   },
   "outputs": [
    {
     "name": "stderr",
     "output_type": "stream",
     "text": [
      "Some weights of BertForTokenClassification were not initialized from the model checkpoint at indobenchmark/indobert-base-p1 and are newly initialized: ['classifier.bias', 'classifier.weight']\n",
      "You should probably TRAIN this model on a down-stream task to be able to use it for predictions and inference.\n"
     ]
    }
   ],
   "source": [
    "model_name = 'indobenchmark/indobert-base-p1'\n",
    "tokenizer = BertTokenizerFast.from_pretrained(model_name, do_lower_case=True)\n",
    "model = BertForTokenClassification.from_pretrained(model_name, num_labels=2)"
   ]
  },
  {
   "cell_type": "markdown",
   "metadata": {
    "id": "P1ZSfGynLTV1"
   },
   "source": [
    "## Preprocessing"
   ]
  },
  {
   "cell_type": "markdown",
   "metadata": {
    "id": "AhQ5K9I3WCcC"
   },
   "source": [
    "1. Split text into words/ punctuations, identify abbreviations and create labels\n",
    "  - After performing EDA on the data, it is found that usually the expanded word and the abbreviation has the same 3 initial letters\n",
    "  - We will use this rule to identify the abbreviation and the associating expansion for each instance\n",
    "1. Create dictionary mapping of abbreviation to original word\n",
    "  - After mapping the abbreviations to the original word, it is found that each abbreviation can be mapped to multiple expanded word\n",
    "  - To ensure the highest accuracy, each abbreviation is mapped to the highest frequency expanded word\n",
    "1. Apply pretrained tokenizer to get subwords and map original word labels to subwords\n",
    "  - After tokenizing the words, some words will be split into subwords, so the length of the tokenized words will be different from the original length\n",
    "1. Convert list of dicts to dict\n",
    "  - We will need the data to be in the form of dictionary for it to work with the torch dataset class which we will be creating below\n",
    "1. Perform padding on X and y\n",
    "  - Perform padding to make all instances same length\n",
    "  - Use -100 for the padding of labels\n",
    "    - -100 tokens are ignored by the model\n",
    "  - Use 0 for the padding of inputs\n",
    "1. Train val split\n",
    "  - 80-20 split\n",
    "1. Create torch dataset\n",
    "  - As we will be using Huggingface Trainer to train, we will need to create a torch dataset class "
   ]
  },
  {
   "cell_type": "code",
   "execution_count": 25,
   "metadata": {
    "id": "tUEmfM7q0X94"
   },
   "outputs": [],
   "source": [
    "# 1. Split text into words/ punctuations, identify abbreviations and create lables\n",
    "abbrev_list = []\n",
    "labels = []\n",
    "raw_addresses = []\n",
    "abbrev_dict = {}\n",
    "for index in train_df.index:\n",
    "    not_in_raw_address = []\n",
    "    abbrev_indexes = []\n",
    "    abbrev_single = []\n",
    "    labels_single = []\n",
    "\n",
    "    raw_address_tokens = re.findall(r\"[\\w]+|[^\\s\\w]\", train_df.loc[index, \"raw_address\"])\n",
    "    street_tokens = re.findall(r\"[\\w]+|[^\\s\\w]\", train_df.loc[index, \"street\"])\n",
    "    poi_tokens = re.findall(r\"[\\w]+|[^\\s\\w]\", train_df.loc[index, \"POI\"])\n",
    "\n",
    "    # find words not in raw address    \n",
    "    for poi_word in poi_tokens:\n",
    "        if (poi_word not in string.punctuation) and (poi_word not in raw_address_tokens):\n",
    "              not_in_raw_address.append(poi_word)\n",
    "\n",
    "    for street_word in street_tokens:\n",
    "        if (street_word not in string.punctuation) and (street_word not in raw_address_tokens):\n",
    "              not_in_raw_address.append(street_word)\n",
    "    \n",
    "    # find abbbrev\n",
    "    for expanded_word in not_in_raw_address:\n",
    "        if len(expanded_word) >= 3:\n",
    "            first_3_char = expanded_word[:3]\n",
    "            raw_address = train_df.loc[index, \"raw_address\"]\n",
    "            abbrev = re.findall(rf'\\b({first_3_char}\\w*)\\b', raw_address) # not ideal because coudld return multiple matches\n",
    "            if len(abbrev) >= 1:\n",
    "                abbrev = abbrev[0]\n",
    "                if abbrev in raw_address_tokens:\n",
    "                    abbrev_index = raw_address_tokens.index(abbrev)\n",
    "                    abbrev_indexes.append(abbrev_index)\n",
    "                    abbrev_single.append(abbrev)\n",
    "\n",
    "                    # create dictionary\n",
    "                    if abbrev not in abbrev_dict.keys():\n",
    "                        # case 1: abbrev not recorded\n",
    "                        abbrev_dict[abbrev] = {}\n",
    "                        abbrev_dict[abbrev][expanded_word] = 1\n",
    "                    else:\n",
    "                        if  expanded_word not in abbrev_dict[abbrev].keys():\n",
    "                            # case 2: abbrev recorded but expanded word not recorded\n",
    "                            abbrev_dict[abbrev][expanded_word] = 1\n",
    "                        else: \n",
    "                            # case 3: abbrev and expanded word recorded\n",
    "                            abbrev_dict[abbrev][expanded_word]  += 1\n",
    "    \n",
    "    # create labels for classification\n",
    "    for i in range(len(raw_address_tokens)):\n",
    "        if i in abbrev_indexes:\n",
    "            labels_single.append(1)\n",
    "        else: \n",
    "            labels_single.append(0)\n",
    "\n",
    "    labels.append(labels_single)\n",
    "    abbrev_list.append(abbrev_single)\n",
    "    raw_addresses.append(raw_address_tokens)"
   ]
  },
  {
   "cell_type": "code",
   "execution_count": 26,
   "metadata": {
    "colab": {
     "base_uri": "https://localhost:8080/"
    },
    "id": "JZ8UY1X1X-GO",
    "outputId": "e247c5e0-4784-4d0f-b9bc-823f85b11f09"
   },
   "outputs": [
    {
     "data": {
      "text/plain": [
       "[0, 0, 1, 1, 0, 0, 0, 0, 0, 0, 0]"
      ]
     },
     "execution_count": 26,
     "metadata": {
      "tags": []
     },
     "output_type": "execute_result"
    }
   ],
   "source": [
    "# Preview labels\n",
    "labels[10]"
   ]
  },
  {
   "cell_type": "code",
   "execution_count": 27,
   "metadata": {
    "colab": {
     "base_uri": "https://localhost:8080/"
    },
    "id": "0Y89xnXoXIBA",
    "outputId": "572e5129-c5e6-4e05-a923-5b8e0aa803c7"
   },
   "outputs": [
    {
     "data": {
      "text/plain": [
       "{'negara': 107, 'negeri': 1058, 'negerikaton': 1, 'neglasari': 1}"
      ]
     },
     "execution_count": 27,
     "metadata": {
      "tags": []
     },
     "output_type": "execute_result"
    }
   ],
   "source": [
    "# Preview abbreviation mapping found from training data\n",
    "abbrev_dict['neg']"
   ]
  },
  {
   "cell_type": "code",
   "execution_count": 28,
   "metadata": {
    "id": "Wv3U-C6D1ek6"
   },
   "outputs": [],
   "source": [
    "# 2. Create dictionary mapping of highest frequency word\n",
    "derived_abbrev_dict = {}\n",
    "for abbrev, expanded_word_dict in abbrev_dict.items():\n",
    "    expanded_word_sorted = sorted(expanded_word_dict.items(), key=lambda item: item[1], reverse=True)\n",
    "    most_expanded_word = expanded_word_sorted[0][0]\n",
    "    derived_abbrev_dict[abbrev] = most_expanded_word"
   ]
  },
  {
   "cell_type": "code",
   "execution_count": 29,
   "metadata": {
    "colab": {
     "base_uri": "https://localhost:8080/",
     "height": 35
    },
    "id": "aj1hR2WrXnyY",
    "outputId": "587d0cf3-a3dd-4ca1-993b-25a1c4bf00ac"
   },
   "outputs": [
    {
     "data": {
      "application/vnd.google.colaboratory.intrinsic+json": {
       "type": "string"
      },
      "text/plain": [
       "'negeri'"
      ]
     },
     "execution_count": 29,
     "metadata": {
      "tags": []
     },
     "output_type": "execute_result"
    }
   ],
   "source": [
    "# Preview abbreviation mapping after mapping each word to highest frequency expansion\n",
    "derived_abbrev_dict['neg']"
   ]
  },
  {
   "cell_type": "code",
   "execution_count": 30,
   "metadata": {
    "id": "Q5yYlW7s0vDc"
   },
   "outputs": [],
   "source": [
    "# 3. Apply pretrained tokenizer to get subwords and map original word labels to subwords\n",
    "tokenized_raw_addresses = []\n",
    "tokenized_labels = []\n",
    "for raw_address, label in zip(raw_addresses, labels):\n",
    "\n",
    "    tokenized_inputs = tokenizer(raw_address, is_split_into_words=True)\n",
    "    word_ids = tokenized_inputs.word_ids()\n",
    "\n",
    "    tokenized_labels_single = []\n",
    "    for idx in word_ids:\n",
    "        if idx == None:\n",
    "            tokenized_labels_single.append(-100)\n",
    "        else:\n",
    "            label_token = label[int(idx)]\n",
    "            tokenized_labels_single.append(label_token)\n",
    "\n",
    "    tokenized_raw_addresses.append(tokenized_inputs)\n",
    "    tokenized_labels.append(tokenized_labels_single) "
   ]
  },
  {
   "cell_type": "code",
   "execution_count": 31,
   "metadata": {
    "id": "7J-mmcYx2N0s"
   },
   "outputs": [],
   "source": [
    "# 4. Convert list of dicts to dict\n",
    "X_dict = {}\n",
    "X_dict['input_ids'] = []\n",
    "X_dict['attention_mask'] = []\n",
    "X_dict['token_type_ids'] = []\n",
    "\n",
    "for i in range(len(tokenized_raw_addresses)):\n",
    "    inputs_ids = tokenized_raw_addresses[i]['input_ids']\n",
    "    attention_mask = tokenized_raw_addresses[i]['attention_mask']\n",
    "    token_type_ids = tokenized_raw_addresses[i]['token_type_ids']\n",
    "\n",
    "    X_dict['input_ids'].append(inputs_ids)\n",
    "    X_dict['attention_mask'].append(attention_mask)\n",
    "    X_dict['token_type_ids'].append(token_type_ids)"
   ]
  },
  {
   "cell_type": "code",
   "execution_count": 32,
   "metadata": {
    "id": "M8DKsoVe2yc5"
   },
   "outputs": [],
   "source": [
    "# 5. Perform padding on X and y\n",
    "# pad sequences to len of 100\n",
    "\n",
    "# Add -100 to padding for labels\n",
    "y = pad_sequences(tokenized_labels, maxlen=100, value=-100, dtype=\"long\", padding='post')\n",
    "\n",
    "# Add 0 to padding for labels\n",
    "for k,v in X_dict.items():\n",
    "    X_dict[k] = pad_sequences(v, maxlen=100, value=0, dtype=\"long\", padding='post')"
   ]
  },
  {
   "cell_type": "code",
   "execution_count": 33,
   "metadata": {
    "colab": {
     "base_uri": "https://localhost:8080/"
    },
    "id": "DWVg5bP-26kf",
    "outputId": "d12bdceb-502c-472e-f07d-882811fe5578"
   },
   "outputs": [
    {
     "name": "stderr",
     "output_type": "stream",
     "text": [
      "/usr/local/lib/python3.7/dist-packages/ipykernel_launcher.py:14: FutureWarning: Using a non-tuple sequence for multidimensional indexing is deprecated; use `arr[tuple(seq)]` instead of `arr[seq]`. In the future this will be interpreted as an array index, `arr[np.array(seq)]`, which will result either in an error or a different result.\n",
      "  \n",
      "/usr/local/lib/python3.7/dist-packages/ipykernel_launcher.py:20: FutureWarning: Using a non-tuple sequence for multidimensional indexing is deprecated; use `arr[tuple(seq)]` instead of `arr[seq]`. In the future this will be interpreted as an array index, `arr[np.array(seq)]`, which will result either in an error or a different result.\n"
     ]
    }
   ],
   "source": [
    "# 7. Train val split\n",
    "\n",
    "# Get train and val indices\n",
    "data_len = len(train_df)\n",
    "test_size=0.2\n",
    "seed = 0\n",
    "np.random.seed(seed)\n",
    "val_indices = np.random.choice(data_len, int(test_size*data_len), replace=False)\n",
    "train_indices = [idx for idx in list(range(data_len)) if idx not in val_indices]\n",
    "\n",
    "# Train set\n",
    "X_train = {}\n",
    "for k,v in X_dict.items():\n",
    "    X_train[k] = v[[train_indices]]\n",
    "y_train = y[train_indices]\n",
    "\n",
    "# Val set\n",
    "X_val = {}\n",
    "for k,v in X_dict.items():\n",
    "    X_val[k] = v[[val_indices]]\n",
    "y_val = y[val_indices]"
   ]
  },
  {
   "cell_type": "code",
   "execution_count": 34,
   "metadata": {
    "id": "kCi049fO3Bho"
   },
   "outputs": [],
   "source": [
    "# 8. Create torch dataset\n",
    "class Dataset(torch.utils.data.Dataset):\n",
    "    def __init__(self, encodings, labels=None):\n",
    "        self.encodings = encodings\n",
    "        self.labels = labels\n",
    "\n",
    "    def __getitem__(self, idx):\n",
    "        item = {key: torch.tensor(val[idx]) for key, val in self.encodings.items()}\n",
    "        if isinstance(self.labels, np.ndarray):\n",
    "            item[\"labels\"] = torch.tensor(self.labels[idx])\n",
    "        return item\n",
    "\n",
    "    def __len__(self):\n",
    "        return len(self.encodings[\"input_ids\"])\n",
    "\n",
    "train_dataset = Dataset(X_train, y_train)\n",
    "val_dataset = Dataset(X_val, y_val)"
   ]
  },
  {
   "cell_type": "markdown",
   "metadata": {
    "id": "ExCmIhgNLVPX"
   },
   "source": [
    "## Training model"
   ]
  },
  {
   "cell_type": "code",
   "execution_count": null,
   "metadata": {
    "colab": {
     "base_uri": "https://localhost:8080/",
     "height": 251
    },
    "id": "b7w2n_os3E13",
    "outputId": "0674b290-18d3-4f9d-95f9-f7bd2a27d20b"
   },
   "outputs": [
    {
     "data": {
      "text/html": [
       "\n",
       "    <div>\n",
       "        <style>\n",
       "            /* Turns off some styling */\n",
       "            progress {\n",
       "                /* gets rid of default border in Firefox and Opera. */\n",
       "                border: none;\n",
       "                /* Needs to be in here for Safari polyfill so background images work as expected. */\n",
       "                background-size: auto;\n",
       "            }\n",
       "        </style>\n",
       "      \n",
       "      <progress value='18001' max='45000' style='width:300px; height:20px; vertical-align: middle;'></progress>\n",
       "      [18001/45000 2:12:59 < 3:19:28, 2.26 it/s, Epoch 1.20/3]\n",
       "    </div>\n",
       "    <table border=\"1\" class=\"dataframe\">\n",
       "  <thead>\n",
       "    <tr style=\"text-align: left;\">\n",
       "      <th>Step</th>\n",
       "      <th>Training Loss</th>\n",
       "      <th>Validation Loss</th>\n",
       "      <th>Accuracy</th>\n",
       "      <th>Precision</th>\n",
       "      <th>Recall</th>\n",
       "      <th>F1</th>\n",
       "      <th>Runtime</th>\n",
       "      <th>Samples Per Second</th>\n",
       "    </tr>\n",
       "  </thead>\n",
       "  <tbody>\n",
       "    <tr>\n",
       "      <td>3000</td>\n",
       "      <td>0.068600</td>\n",
       "      <td>0.065181</td>\n",
       "      <td>0.977311</td>\n",
       "      <td>0.735814</td>\n",
       "      <td>0.456478</td>\n",
       "      <td>0.563423</td>\n",
       "      <td>421.096700</td>\n",
       "      <td>142.485000</td>\n",
       "    </tr>\n",
       "    <tr>\n",
       "      <td>6000</td>\n",
       "      <td>0.062400</td>\n",
       "      <td>0.062479</td>\n",
       "      <td>0.978575</td>\n",
       "      <td>0.765906</td>\n",
       "      <td>0.478137</td>\n",
       "      <td>0.588739</td>\n",
       "      <td>420.379000</td>\n",
       "      <td>142.728000</td>\n",
       "    </tr>\n",
       "    <tr>\n",
       "      <td>9000</td>\n",
       "      <td>0.060500</td>\n",
       "      <td>0.061875</td>\n",
       "      <td>0.979086</td>\n",
       "      <td>0.777266</td>\n",
       "      <td>0.487674</td>\n",
       "      <td>0.599321</td>\n",
       "      <td>421.058500</td>\n",
       "      <td>142.498000</td>\n",
       "    </tr>\n",
       "    <tr>\n",
       "      <td>12000</td>\n",
       "      <td>0.062900</td>\n",
       "      <td>0.059463</td>\n",
       "      <td>0.978993</td>\n",
       "      <td>0.763032</td>\n",
       "      <td>0.500457</td>\n",
       "      <td>0.604460</td>\n",
       "      <td>420.494100</td>\n",
       "      <td>142.689000</td>\n",
       "    </tr>\n",
       "    <tr>\n",
       "      <td>15000</td>\n",
       "      <td>0.055300</td>\n",
       "      <td>0.059738</td>\n",
       "      <td>0.979792</td>\n",
       "      <td>0.757721</td>\n",
       "      <td>0.543827</td>\n",
       "      <td>0.633198</td>\n",
       "      <td>420.526700</td>\n",
       "      <td>142.678000</td>\n",
       "    </tr>\n",
       "    <tr>\n",
       "      <td>18000</td>\n",
       "      <td>0.050300</td>\n",
       "      <td>0.065464</td>\n",
       "      <td>0.979364</td>\n",
       "      <td>0.721125</td>\n",
       "      <td>0.581465</td>\n",
       "      <td>0.643808</td>\n",
       "      <td>420.278200</td>\n",
       "      <td>142.763000</td>\n",
       "    </tr>\n",
       "  </tbody>\n",
       "</table><p>"
      ],
      "text/plain": [
       "<IPython.core.display.HTML object>"
      ]
     },
     "metadata": {
      "tags": []
     },
     "output_type": "display_data"
    }
   ],
   "source": [
    "def compute_metrics(p):\n",
    "    pred, labels = p\n",
    "    predictions_argmax = np.argmax(pred, axis=2)\n",
    "\n",
    "    true_predictions = [\n",
    "    [p for (p, l) in zip(prediction, label) if l != -100]\n",
    "    for prediction, label in zip(predictions_argmax, labels)\n",
    "    ]\n",
    "    true_labels = [\n",
    "        [l for (p, l) in zip(prediction, label) if l != -100]\n",
    "        for prediction, label in zip(predictions_argmax, labels)\n",
    "    ]\n",
    "\n",
    "    # Flatten predictions and labels into single dimension\n",
    "    true_predictions_flatten = []\n",
    "    true_labels_flatten = []\n",
    "    for i_outer in range(len(true_predictions)):\n",
    "        for i_inner in range(len(true_predictions[i_outer])):\n",
    "            true_predictions_flatten.append(true_predictions[i_outer][i_inner])\n",
    "            true_labels_flatten.append(true_labels[i_outer][i_inner])\n",
    "\n",
    "    accuracy = accuracy_score(y_true=true_labels_flatten, y_pred=true_predictions_flatten)\n",
    "    recall = recall_score(y_true=true_labels_flatten, y_pred=true_predictions_flatten)\n",
    "    precision = precision_score(y_true=true_labels_flatten, y_pred=true_predictions_flatten)\n",
    "    f1 = f1_score(y_true=true_labels_flatten, y_pred=true_predictions_flatten)\n",
    "\n",
    "    return {\"accuracy\": accuracy, \"precision\": precision, \"recall\": recall, \"f1\": f1}\n",
    "\n",
    "args = TrainingArguments(\n",
    "    '/content/drive/MyDrive/shopee_code_league/abbrev_model',\n",
    "    evaluation_strategy = \"steps\",\n",
    "    eval_steps=3000,\n",
    "    learning_rate=2e-5,\n",
    "    per_device_train_batch_size=16,\n",
    "    per_device_eval_batch_size=16,\n",
    "    num_train_epochs=3,\n",
    "    weight_decay=0.01,\n",
    "    save_steps=3000,\n",
    "    seed=0,\n",
    "    load_best_model_at_end=True,\n",
    "    save_total_limit=3\n",
    ")\n",
    "\n",
    "abbrev_trainer = Trainer(\n",
    "    model,\n",
    "    args,\n",
    "    train_dataset=train_dataset,\n",
    "    eval_dataset=val_dataset,\n",
    "    compute_metrics=compute_metrics,\n",
    "    callbacks = [EarlyStoppingCallback(early_stopping_patience=2)]\n",
    ")\n",
    "\n",
    "abbrev_trainer.train()"
   ]
  },
  {
   "cell_type": "markdown",
   "metadata": {
    "id": "2i_jyQPILi_p"
   },
   "source": [
    "## Evaluating model performance"
   ]
  },
  {
   "cell_type": "markdown",
   "metadata": {
    "id": "l8cQefC7QZ6s"
   },
   "source": [
    "1. Evaluating on token level\n",
    "  - Evaluate model accuracy on detecting token category - abbreviation or not\n",
    "2. Evaluating on instance level\n",
    "  - Evaluating the accuracy of the model by instance level"
   ]
  },
  {
   "cell_type": "code",
   "execution_count": 35,
   "metadata": {
    "id": "D1RRYwFpSZvd"
   },
   "outputs": [],
   "source": [
    "# load trained model\n",
    "model_path = '/content/drive/MyDrive/shopee_code_league/abbrev_model/checkpoint-18000'\n",
    "model =  BertForTokenClassification.from_pretrained(model_path, num_labels=2)\n",
    "trained_abbrev_trainer = Trainer(model)"
   ]
  },
  {
   "cell_type": "code",
   "execution_count": 36,
   "metadata": {
    "colab": {
     "base_uri": "https://localhost:8080/",
     "height": 107
    },
    "id": "ebwzM_F56xnc",
    "outputId": "a923c9aa-6db0-4aa6-ce46-cb3d9110eb67"
   },
   "outputs": [
    {
     "data": {
      "text/html": [
       "\n",
       "    <div>\n",
       "        <style>\n",
       "            /* Turns off some styling */\n",
       "            progress {\n",
       "                /* gets rid of default border in Firefox and Opera. */\n",
       "                border: none;\n",
       "                /* Needs to be in here for Safari polyfill so background images work as expected. */\n",
       "                background-size: auto;\n",
       "            }\n",
       "        </style>\n",
       "      \n",
       "      <progress value='7500' max='7500' style='width:300px; height:20px; vertical-align: middle;'></progress>\n",
       "      [7500/7500 13:32]\n",
       "    </div>\n",
       "    "
      ],
      "text/plain": [
       "<IPython.core.display.HTML object>"
      ]
     },
     "metadata": {
      "tags": []
     },
     "output_type": "display_data"
    },
    {
     "name": "stdout",
     "output_type": "stream",
     "text": [
      "token accuracy:  0.979364402781348\n",
      "token precision:  0.7211248112732763\n",
      "token recall:  0.5814649487673734\n",
      "token f1:  0.6438079191238416\n"
     ]
    }
   ],
   "source": [
    "# 1. Evaluate on token level \n",
    "\n",
    "predictions, labels, _ = trained_abbrev_trainer.predict(val_dataset)\n",
    "predictions_argmax = np.argmax(predictions, axis=2)\n",
    "\n",
    "true_predictions = [\n",
    "[p for (p, l) in zip(prediction, label) if l != -100]\n",
    "for prediction, label in zip(predictions_argmax, labels)\n",
    "]\n",
    "true_labels = [\n",
    "    [l for (p, l) in zip(prediction, label) if l != -100]\n",
    "    for prediction, label in zip(predictions_argmax, labels)\n",
    "]\n",
    "\n",
    "# Flatten predictions and labels into single dimension\n",
    "true_predictions_flatten = []\n",
    "true_labels_flatten = []\n",
    "for i_outer in range(len(true_predictions)):\n",
    "    for i_inner in range(len(true_predictions[i_outer])):\n",
    "        true_predictions_flatten.append(true_predictions[i_outer][i_inner])\n",
    "        true_labels_flatten.append(true_labels[i_outer][i_inner])\n",
    "\n",
    "accuracy = accuracy_score(y_true=true_labels_flatten, y_pred=true_predictions_flatten)\n",
    "recall = recall_score(y_true=true_labels_flatten, y_pred=true_predictions_flatten)\n",
    "precision = precision_score(y_true=true_labels_flatten, y_pred=true_predictions_flatten)\n",
    "f1 = f1_score(y_true=true_labels_flatten, y_pred=true_predictions_flatten)\n",
    "\n",
    "print(\"token accuracy: \", accuracy)\n",
    "print(\"token precision: \", precision)\n",
    "print(\"token recall: \", recall)\n",
    "print(\"token f1: \", f1)"
   ]
  },
  {
   "cell_type": "code",
   "execution_count": 37,
   "metadata": {
    "colab": {
     "base_uri": "https://localhost:8080/"
    },
    "id": "y0wj6YER6-9l",
    "outputId": "87643c65-dfb0-4db5-c8d9-cdf8e31f7df0"
   },
   "outputs": [
    {
     "name": "stdout",
     "output_type": "stream",
     "text": [
      "instance accuracy without abbre model: 0.8110833333333334\n",
      "instance accuracy: 0.8653166666666666\n",
      "instance precision: 0.7683792815371763\n",
      "instance recall: 0.6491398323775915\n"
     ]
    }
   ],
   "source": [
    "# 2. Evaluate results by instances level\n",
    "\n",
    "total = 0\n",
    "correct = 0\n",
    "positive_pred = 0 \n",
    "positive_label = 0 \n",
    "correct_positive_pred = 0\n",
    "for i in range(len(true_predictions)):\n",
    "    total += 1\n",
    "    if (true_predictions [i]== true_labels[i]):\n",
    "        correct +=1\n",
    "    if 1 in true_labels[i]:\n",
    "        positive_label += 1\n",
    "    if 1 in true_predictions[i]:\n",
    "        positive_pred += 1\n",
    "        if 1 in true_labels[i]:\n",
    "            correct_positive_pred += 1\n",
    "\n",
    "print('instance accuracy without abbre model:', 1 - positive_label/total)\n",
    "print('instance accuracy:', correct/total)\n",
    "print('instance precision:', correct_positive_pred/positive_pred)\n",
    "print('instance recall:', correct_positive_pred/positive_label)"
   ]
  },
  {
   "cell_type": "markdown",
   "metadata": {
    "id": "yZXJju6h96w2"
   },
   "source": [
    "# Testing combined model performance"
   ]
  },
  {
   "cell_type": "markdown",
   "metadata": {
    "id": "47BVSWRn-6Sn"
   },
   "source": [
    "## Making inference with abbreviation detection model"
   ]
  },
  {
   "cell_type": "markdown",
   "metadata": {
    "id": "9e-zEfN7Y0Lu"
   },
   "source": [
    "### Preprocessing\n",
    "\n",
    "1. Tokenize raw addresses using pretrained tokenizer\n",
    "1. Convert list of dicts to dicts of lists\n",
    "1. Perform padding to 100 length\n",
    "1. Create torch dataset class"
   ]
  },
  {
   "cell_type": "code",
   "execution_count": 38,
   "metadata": {
    "id": "KSq1pkKR-VL4"
   },
   "outputs": [],
   "source": [
    "# Predict abbreviations \n",
    "\n",
    "val_set = train_df.iloc[val_indices,:]\n",
    "\n",
    "# Define tokenizer\n",
    "model_name = 'indobenchmark/indobert-base-p1' \n",
    "tokenizer = BertTokenizerFast.from_pretrained(model_name, do_lower_case=True)\n",
    "\n",
    "tokenized_raw_addresses = []\n",
    "tokens_len = []\n",
    "for index in val_set.index:\n",
    "    raw_address = re.findall(r\"[\\w]+|[^\\s\\w]\", val_set.loc[index, \"raw_address\"])\n",
    "    tokenized_inputs = tokenizer(raw_address, is_split_into_words=True)\n",
    "    tokenized_raw_addresses.append(tokenized_inputs)\n",
    "\n",
    "    # calculate tokens length - need for output\n",
    "    tokens_len_row = len(tokenized_inputs['input_ids']) - 2 # minus [cls] and [sep]\n",
    "    tokens_len.append(tokens_len_row)\n",
    "\n",
    "# convert list of dict to dict of lists\n",
    "X = {}\n",
    "X['input_ids'] = []\n",
    "X['attention_mask'] = []\n",
    "X['token_type_ids'] = []\n",
    "\n",
    "for i in range(len(tokenized_raw_addresses)):\n",
    "    inputs_ids = tokenized_raw_addresses[i]['input_ids']\n",
    "    attention_mask = tokenized_raw_addresses[i]['attention_mask']\n",
    "    token_type_ids = tokenized_raw_addresses[i]['token_type_ids']\n",
    "\n",
    "    X['input_ids'].append(inputs_ids)\n",
    "    X['attention_mask'].append(attention_mask)\n",
    "    X['token_type_ids'].append(token_type_ids)\n",
    "\n",
    "# Perform padding\n",
    "for k,v in X.items():\n",
    "    X[k] = pad_sequences(v, maxlen=100, value=0, dtype=\"long\", padding='post')\n",
    "\n",
    "\n",
    "class Dataset(torch.utils.data.Dataset):\n",
    "    def __init__(self, encodings, labels=None):\n",
    "        self.encodings = encodings\n",
    "        self.labels = labels\n",
    "\n",
    "    def __getitem__(self, idx):\n",
    "        item = {key: torch.tensor(val[idx]) for key, val in self.encodings.items()}\n",
    "        if isinstance(self.labels, np.ndarray):\n",
    "            item[\"labels\"] = torch.tensor(self.labels[idx])\n",
    "        return item\n",
    "\n",
    "    def __len__(self):\n",
    "        return len(self.encodings[\"input_ids\"])\n",
    "\n",
    "\n",
    "X_torch = Dataset(X)"
   ]
  },
  {
   "cell_type": "markdown",
   "metadata": {
    "id": "iSYApJNtZJbA"
   },
   "source": [
    "### Prediction"
   ]
  },
  {
   "cell_type": "code",
   "execution_count": 39,
   "metadata": {
    "colab": {
     "base_uri": "https://localhost:8080/",
     "height": 37
    },
    "id": "gQrzBj_I-sia",
    "outputId": "297274ca-e873-42d2-a7c4-89303981e5ca"
   },
   "outputs": [
    {
     "data": {
      "text/html": [
       "\n",
       "    <div>\n",
       "        <style>\n",
       "            /* Turns off some styling */\n",
       "            progress {\n",
       "                /* gets rid of default border in Firefox and Opera. */\n",
       "                border: none;\n",
       "                /* Needs to be in here for Safari polyfill so background images work as expected. */\n",
       "                background-size: auto;\n",
       "            }\n",
       "        </style>\n",
       "      \n",
       "      <progress value='7500' max='7500' style='width:300px; height:20px; vertical-align: middle;'></progress>\n",
       "      [7500/7500 13:03]\n",
       "    </div>\n",
       "    "
      ],
      "text/plain": [
       "<IPython.core.display.HTML object>"
      ]
     },
     "metadata": {
      "tags": []
     },
     "output_type": "display_data"
    }
   ],
   "source": [
    "# load model\n",
    "model_path = '/content/drive/MyDrive/shopee_code_league/abbrev_model/checkpoint-18000'\n",
    "model =  BertForTokenClassification.from_pretrained(model_path, num_labels=2)\n",
    "trained_abbrev_trainer = Trainer(model)\n",
    "\n",
    "# predict\n",
    "pred,_,_ = trained_abbrev_trainer.predict(X_torch)"
   ]
  },
  {
   "cell_type": "code",
   "execution_count": 40,
   "metadata": {
    "id": "_4HyzIHA_X_z"
   },
   "outputs": [],
   "source": [
    "# Process prediction to find words to expand\n",
    "\n",
    "# Trim pred to length of input tokens\n",
    "predictions_argmax_test = np.argmax(pred, axis=2)\n",
    "\n",
    "pred_tokens = []\n",
    "for i in range(len(predictions_argmax_test)):\n",
    "    tokens = predictions_argmax_test[i][1: tokens_len[i]+ 1]\n",
    "    pred_tokens.append(tokens)"
   ]
  },
  {
   "cell_type": "code",
   "execution_count": 41,
   "metadata": {
    "id": "E3Me_v4a_6wl"
   },
   "outputs": [],
   "source": [
    "# find words needed to expand\n",
    "token_ids_to_expand = []\n",
    "abbrev_to_expand = []\n",
    "abbrev_expansion = []\n",
    "for row_num, row in enumerate(pred_tokens):\n",
    "    if  1 in row:\n",
    "        token_ids_to_expand_row = []\n",
    "        \n",
    "        input_ids = X['input_ids'][row_num][1: len(row)+1] # exclude cls token and sep\n",
    "        for token_num, token in enumerate(row):\n",
    "            if token == 1:\n",
    "                token_id = input_ids[token_num]\n",
    "                token_ids_to_expand_row.append(token_id)\n",
    "\n",
    "        token_ids_to_expand.append(token_ids_to_expand_row)\n",
    "\n",
    "        # decode - tokens include subwords\n",
    "        original_abbrev = tokenizer.decode(token_ids_to_expand_row)\n",
    "        abbrev_list = abbrev_list = re.findall(r\"[\\w]+|[^\\s\\w]\", original_abbrev)\n",
    "\n",
    "        expansion_dict = {}\n",
    "        for abbrev in abbrev_list:\n",
    "            if abbrev in derived_abbrev_dict.keys():\n",
    "                expansion = derived_abbrev_dict[abbrev]\n",
    "                expansion_dict[abbrev] = expansion\n",
    "        abbrev_expansion.append(expansion_dict)\n",
    "\n",
    "    else:\n",
    "        # token_ids_to_expand.append([])\n",
    "        # abbrev_to_expand.append('')\n",
    "        abbrev_expansion.append({})"
   ]
  },
  {
   "cell_type": "markdown",
   "metadata": {
    "id": "Eiayzlote2fO"
   },
   "source": [
    "## Apply abbreviation model pred on POS model pred"
   ]
  },
  {
   "cell_type": "code",
   "execution_count": 43,
   "metadata": {
    "colab": {
     "base_uri": "https://localhost:8080/",
     "height": 229
    },
    "id": "buQgUfpOc2F5",
    "outputId": "5134e916-8e4b-42a2-c9b6-f2fab63beaca"
   },
   "outputs": [
    {
     "data": {
      "text/html": [
       "<div>\n",
       "<style scoped>\n",
       "    .dataframe tbody tr th:only-of-type {\n",
       "        vertical-align: middle;\n",
       "    }\n",
       "\n",
       "    .dataframe tbody tr th {\n",
       "        vertical-align: top;\n",
       "    }\n",
       "\n",
       "    .dataframe thead th {\n",
       "        text-align: right;\n",
       "    }\n",
       "</style>\n",
       "<table border=\"1\" class=\"dataframe\">\n",
       "  <thead>\n",
       "    <tr style=\"text-align: right;\">\n",
       "      <th></th>\n",
       "      <th>id</th>\n",
       "      <th>raw_address</th>\n",
       "      <th>POI/street</th>\n",
       "      <th>POI</th>\n",
       "      <th>street</th>\n",
       "      <th>y_pred</th>\n",
       "    </tr>\n",
       "  </thead>\n",
       "  <tbody>\n",
       "    <tr>\n",
       "      <th>112692</th>\n",
       "      <td>112692</td>\n",
       "      <td>warung bakso ser bah, 64157</td>\n",
       "      <td>warung bakso/ser bah</td>\n",
       "      <td>warung bakso</td>\n",
       "      <td>ser bah</td>\n",
       "      <td>warung bakso ser bah/</td>\n",
       "    </tr>\n",
       "    <tr>\n",
       "      <th>19498</th>\n",
       "      <td>19498</td>\n",
       "      <td>komplek graha teluk jakarta blok.ac 5 no.7 clu...</td>\n",
       "      <td>komplek graha teluk jakarta/</td>\n",
       "      <td>komplek graha teluk jakarta</td>\n",
       "      <td></td>\n",
       "      <td>komplek graha teluk jakarta/</td>\n",
       "    </tr>\n",
       "    <tr>\n",
       "      <th>31689</th>\n",
       "      <td>31689</td>\n",
       "      <td>gedung menara enjiniring - pln enjiniring lant...</td>\n",
       "      <td>menara enjiniring/jl. ciputat raya</td>\n",
       "      <td>menara enjiniring</td>\n",
       "      <td>jl. ciputat raya</td>\n",
       "      <td>menara enjiniring enjiniring/jl. ciputat raya.</td>\n",
       "    </tr>\n",
       "    <tr>\n",
       "      <th>231780</th>\n",
       "      <td>231780</td>\n",
       "      <td>kepuharjo nan 28 lumajang</td>\n",
       "      <td>/</td>\n",
       "      <td></td>\n",
       "      <td></td>\n",
       "      <td>/nan</td>\n",
       "    </tr>\n",
       "    <tr>\n",
       "      <th>4298</th>\n",
       "      <td>4298</td>\n",
       "      <td>kejayaan 17 4 7 krukut rt 11 1 taman sari</td>\n",
       "      <td>/kejayaan</td>\n",
       "      <td></td>\n",
       "      <td>kejayaan</td>\n",
       "      <td>/kejayaan</td>\n",
       "    </tr>\n",
       "  </tbody>\n",
       "</table>\n",
       "</div>"
      ],
      "text/plain": [
       "            id  ...                                          y_pred\n",
       "112692  112692  ...                           warung bakso ser bah/\n",
       "19498    19498  ...                    komplek graha teluk jakarta/\n",
       "31689    31689  ...  menara enjiniring enjiniring/jl. ciputat raya.\n",
       "231780  231780  ...                                            /nan\n",
       "4298      4298  ...                                       /kejayaan\n",
       "\n",
       "[5 rows x 6 columns]"
      ]
     },
     "execution_count": 43,
     "metadata": {
      "tags": []
     },
     "output_type": "execute_result"
    }
   ],
   "source": [
    "val_df_pos.head()"
   ]
  },
  {
   "cell_type": "code",
   "execution_count": 44,
   "metadata": {
    "id": "yoT8wOOoaPMa"
   },
   "outputs": [],
   "source": [
    "poi_street_pred = list(val_df_pos['y_pred'])\n",
    "\n",
    "# perform abbrev expansion\n",
    "expanded_poi_street_pred = []\n",
    "for row_id, abbrev_expansion_row in enumerate(abbrev_expansion):\n",
    "    if len(abbrev_expansion_row.keys()) == 0:\n",
    "        expanded_poi_street_pred.append(poi_street_pred[row_id])\n",
    "    else:\n",
    "        poi_street_row = poi_street_pred[row_id]\n",
    "        for abbrev in abbrev_expansion_row.keys():\n",
    "            if abbrev in poi_street_row:\n",
    "                expansion = abbrev_expansion_row[abbrev]\n",
    "                poi_street_row = poi_street_row.replace(abbrev, expansion)\n",
    "        expanded_poi_street_pred.append(poi_street_row)"
   ]
  },
  {
   "cell_type": "markdown",
   "metadata": {
    "id": "dyENTbbwdFKr"
   },
   "source": [
    "## Evaluation"
   ]
  },
  {
   "cell_type": "code",
   "execution_count": 45,
   "metadata": {
    "colab": {
     "base_uri": "https://localhost:8080/"
    },
    "id": "x02qqMT0B9dE",
    "outputId": "5341fa6b-b855-4441-8abc-05bd44421ce9"
   },
   "outputs": [
    {
     "name": "stderr",
     "output_type": "stream",
     "text": [
      "/usr/local/lib/python3.7/dist-packages/ipykernel_launcher.py:1: SettingWithCopyWarning: \n",
      "A value is trying to be set on a copy of a slice from a DataFrame.\n",
      "Try using .loc[row_indexer,col_indexer] = value instead\n",
      "\n",
      "See the caveats in the documentation: https://pandas.pydata.org/pandas-docs/stable/user_guide/indexing.html#returning-a-view-versus-a-copy\n",
      "  \"\"\"Entry point for launching an IPython kernel.\n"
     ]
    }
   ],
   "source": [
    "val_df_pos['y_pred_expanded'] = expanded_poi_street_pred"
   ]
  },
  {
   "cell_type": "code",
   "execution_count": 50,
   "metadata": {
    "colab": {
     "base_uri": "https://localhost:8080/",
     "height": 478
    },
    "id": "43pW0TPHO5jM",
    "outputId": "170152c8-73cf-43e2-afd5-bfb0e2e2107c"
   },
   "outputs": [
    {
     "data": {
      "text/html": [
       "<div>\n",
       "<style scoped>\n",
       "    .dataframe tbody tr th:only-of-type {\n",
       "        vertical-align: middle;\n",
       "    }\n",
       "\n",
       "    .dataframe tbody tr th {\n",
       "        vertical-align: top;\n",
       "    }\n",
       "\n",
       "    .dataframe thead th {\n",
       "        text-align: right;\n",
       "    }\n",
       "</style>\n",
       "<table border=\"1\" class=\"dataframe\">\n",
       "  <thead>\n",
       "    <tr style=\"text-align: right;\">\n",
       "      <th></th>\n",
       "      <th>id</th>\n",
       "      <th>raw_address</th>\n",
       "      <th>POI/street</th>\n",
       "      <th>POI</th>\n",
       "      <th>street</th>\n",
       "      <th>y_pred</th>\n",
       "      <th>y_pred_expanded</th>\n",
       "    </tr>\n",
       "  </thead>\n",
       "  <tbody>\n",
       "    <tr>\n",
       "      <th>146037</th>\n",
       "      <td>146037</td>\n",
       "      <td>kalibata ten, pancoran</td>\n",
       "      <td>/kalibata tengah</td>\n",
       "      <td></td>\n",
       "      <td>kalibata tengah</td>\n",
       "      <td>/kalibata ten</td>\n",
       "      <td>/kalibata ten</td>\n",
       "    </tr>\n",
       "    <tr>\n",
       "      <th>223083</th>\n",
       "      <td>223083</td>\n",
       "      <td>war nasi wahyu jaya, suka bakti,</td>\n",
       "      <td>warung nasi wahyu jaya/suka bakti</td>\n",
       "      <td>warung nasi wahyu jaya</td>\n",
       "      <td>suka bakti</td>\n",
       "      <td>war nasi wahyu jaya/suka bakti</td>\n",
       "      <td>warung nasi wahyu jaya/suka bakti</td>\n",
       "    </tr>\n",
       "    <tr>\n",
       "      <th>142286</th>\n",
       "      <td>142286</td>\n",
       "      <td>perum asab deli deli tua barat deli tua</td>\n",
       "      <td>perumahan asabri, delitua/</td>\n",
       "      <td>perumahan asabri, delitua</td>\n",
       "      <td></td>\n",
       "      <td>deli deli deli tua/perum asab</td>\n",
       "      <td>deli deli deli tua/perum asab</td>\n",
       "    </tr>\n",
       "    <tr>\n",
       "      <th>233827</th>\n",
       "      <td>233827</td>\n",
       "      <td>cipinang goedang futsal raya kal, 3 a rt 1 1 1...</td>\n",
       "      <td>goedang futsal/raya kal</td>\n",
       "      <td>goedang futsal</td>\n",
       "      <td>raya kal</td>\n",
       "      <td>goedang futsal/raya kal</td>\n",
       "      <td>goedang futsal/raya kal</td>\n",
       "    </tr>\n",
       "    <tr>\n",
       "      <th>77956</th>\n",
       "      <td>77956</td>\n",
       "      <td>and 32 pangkalan jati baru cinere</td>\n",
       "      <td>/and</td>\n",
       "      <td></td>\n",
       "      <td>and</td>\n",
       "      <td>/and</td>\n",
       "      <td>/and</td>\n",
       "    </tr>\n",
       "    <tr>\n",
       "      <th>66564</th>\n",
       "      <td>66564</td>\n",
       "      <td>gg. camplung 2 dalung kuta utara</td>\n",
       "      <td>/gg. camplung</td>\n",
       "      <td></td>\n",
       "      <td>gg. camplung</td>\n",
       "      <td>/gg. camplung 2</td>\n",
       "      <td>/gg. camplung 2</td>\n",
       "    </tr>\n",
       "    <tr>\n",
       "      <th>170313</th>\n",
       "      <td>170313</td>\n",
       "      <td>biro tehnik list,</td>\n",
       "      <td>biro tehnik listrik/</td>\n",
       "      <td>biro tehnik listrik</td>\n",
       "      <td></td>\n",
       "      <td>biro tehnik list/</td>\n",
       "      <td>biro tehnik listrik/</td>\n",
       "    </tr>\n",
       "    <tr>\n",
       "      <th>97745</th>\n",
       "      <td>97745</td>\n",
       "      <td>warung_me, merd, sumerta kelod</td>\n",
       "      <td>warung_menlempeh/merd</td>\n",
       "      <td>warung_menlempeh</td>\n",
       "      <td>merd</td>\n",
       "      <td>warung _ me/merd</td>\n",
       "      <td>warung _ me/merd</td>\n",
       "    </tr>\n",
       "    <tr>\n",
       "      <th>97412</th>\n",
       "      <td>97412</td>\n",
       "      <td>kosasih,</td>\n",
       "      <td>kosasih/</td>\n",
       "      <td>kosasih</td>\n",
       "      <td></td>\n",
       "      <td>/kosasih</td>\n",
       "      <td>/kosasih</td>\n",
       "    </tr>\n",
       "    <tr>\n",
       "      <th>161356</th>\n",
       "      <td>161356</td>\n",
       "      <td>wisata pan mangg sura timur mulyo utara ix no ...</td>\n",
       "      <td>wisata pantai manggrove surabaya timur/mulyo u...</td>\n",
       "      <td>wisata pantai manggrove surabaya timur</td>\n",
       "      <td>mulyo utara ix</td>\n",
       "      <td>/mulyo utara ix</td>\n",
       "      <td>/mulyo utara ix</td>\n",
       "    </tr>\n",
       "  </tbody>\n",
       "</table>\n",
       "</div>"
      ],
      "text/plain": [
       "            id  ...                    y_pred_expanded\n",
       "146037  146037  ...                      /kalibata ten\n",
       "223083  223083  ...  warung nasi wahyu jaya/suka bakti\n",
       "142286  142286  ...      deli deli deli tua/perum asab\n",
       "233827  233827  ...            goedang futsal/raya kal\n",
       "77956    77956  ...                               /and\n",
       "66564    66564  ...                    /gg. camplung 2\n",
       "170313  170313  ...               biro tehnik listrik/\n",
       "97745    97745  ...                   warung _ me/merd\n",
       "97412    97412  ...                           /kosasih\n",
       "161356  161356  ...                    /mulyo utara ix\n",
       "\n",
       "[10 rows x 7 columns]"
      ]
     },
     "execution_count": 50,
     "metadata": {
      "tags": []
     },
     "output_type": "execute_result"
    }
   ],
   "source": [
    "val_df_pos.tail(10)"
   ]
  },
  {
   "cell_type": "code",
   "execution_count": 47,
   "metadata": {
    "colab": {
     "base_uri": "https://localhost:8080/"
    },
    "id": "Zlm8RpSidMwb",
    "outputId": "993d0f28-7799-40e1-d67a-bf1e30e6d7ea"
   },
   "outputs": [
    {
     "name": "stdout",
     "output_type": "stream",
     "text": [
      "model accuracy (pos model only): 0.5885666666666667\n",
      "model accuracy (pos and abbrev model): 0.63415\n"
     ]
    }
   ],
   "source": [
    "print('model accuracy (pos model only):', np.average(val_df_pos['y_pred'] == val_df_pos['POI/street']))\n",
    "print('model accuracy (pos and abbrev model):', np.average(val_df_pos['y_pred_expanded'] == val_df_pos['POI/street']))"
   ]
  },
  {
   "cell_type": "markdown",
   "metadata": {
    "id": "pyUn2n-2RRGA"
   },
   "source": [
    "# Conclusion\n",
    "Model accuracy is around 63% on test data.\n",
    "\n",
    "This performance can be improved by removing raw addresses without POI and street from the training data. Based on experimenting with different models, we suspect that the raw addresses without POI and labels are wrongly labelled. Including these in the training data will add noise and thus reduce the accuracy of the model.\n",
    "\n",
    "Removing these raw addresses from the training data can help you to gain 1% more accuracy"
   ]
  }
 ],
 "metadata": {
  "accelerator": "GPU",
  "colab": {
   "collapsed_sections": [],
   "name": "adress_element_extraction",
   "provenance": [],
   "toc_visible": true
  },
  "kernelspec": {
   "display_name": "Python 3",
   "language": "python",
   "name": "python3"
  },
  "language_info": {
   "codemirror_mode": {
    "name": "ipython",
    "version": 3
   },
   "file_extension": ".py",
   "mimetype": "text/x-python",
   "name": "python",
   "nbconvert_exporter": "python",
   "pygments_lexer": "ipython3",
   "version": "3.8.5"
  },
  "widgets": {
   "application/vnd.jupyter.widget-state+json": {
    "0c6f4ea7fde544bf9c391e136ee3b63a": {
     "model_module": "@jupyter-widgets/controls",
     "model_name": "HBoxModel",
     "state": {
      "_dom_classes": [],
      "_model_module": "@jupyter-widgets/controls",
      "_model_module_version": "1.5.0",
      "_model_name": "HBoxModel",
      "_view_count": null,
      "_view_module": "@jupyter-widgets/controls",
      "_view_module_version": "1.5.0",
      "_view_name": "HBoxView",
      "box_style": "",
      "children": [
       "IPY_MODEL_f77c927ef5cc4f98b7a7dc6a8281b67c",
       "IPY_MODEL_c1f499e3626e4fe9b5afc4150ae1bcbb"
      ],
      "layout": "IPY_MODEL_ad27f8bf3fcc460a9da3b75d0fe372ab"
     }
    },
    "1b81b69e3ac241789c0fd9bb8650236f": {
     "model_module": "@jupyter-widgets/controls",
     "model_name": "DescriptionStyleModel",
     "state": {
      "_model_module": "@jupyter-widgets/controls",
      "_model_module_version": "1.5.0",
      "_model_name": "DescriptionStyleModel",
      "_view_count": null,
      "_view_module": "@jupyter-widgets/base",
      "_view_module_version": "1.2.0",
      "_view_name": "StyleView",
      "description_width": ""
     }
    },
    "28ca11df4eac4db5a2dc9368c6193342": {
     "model_module": "@jupyter-widgets/controls",
     "model_name": "FloatProgressModel",
     "state": {
      "_dom_classes": [],
      "_model_module": "@jupyter-widgets/controls",
      "_model_module_version": "1.5.0",
      "_model_name": "FloatProgressModel",
      "_view_count": null,
      "_view_module": "@jupyter-widgets/controls",
      "_view_module_version": "1.5.0",
      "_view_name": "ProgressView",
      "bar_style": "success",
      "description": "Downloading: 100%",
      "description_tooltip": null,
      "layout": "IPY_MODEL_b371d1c072fe413f93a8e2b8b0f4ef1d",
      "max": 112,
      "min": 0,
      "orientation": "horizontal",
      "style": "IPY_MODEL_4cee2fd33d3644a5992bc77556d7fc61",
      "value": 112
     }
    },
    "2a0ac5a200244df29669eef59a32fbff": {
     "model_module": "@jupyter-widgets/base",
     "model_name": "LayoutModel",
     "state": {
      "_model_module": "@jupyter-widgets/base",
      "_model_module_version": "1.2.0",
      "_model_name": "LayoutModel",
      "_view_count": null,
      "_view_module": "@jupyter-widgets/base",
      "_view_module_version": "1.2.0",
      "_view_name": "LayoutView",
      "align_content": null,
      "align_items": null,
      "align_self": null,
      "border": null,
      "bottom": null,
      "display": null,
      "flex": null,
      "flex_flow": null,
      "grid_area": null,
      "grid_auto_columns": null,
      "grid_auto_flow": null,
      "grid_auto_rows": null,
      "grid_column": null,
      "grid_gap": null,
      "grid_row": null,
      "grid_template_areas": null,
      "grid_template_columns": null,
      "grid_template_rows": null,
      "height": null,
      "justify_content": null,
      "justify_items": null,
      "left": null,
      "margin": null,
      "max_height": null,
      "max_width": null,
      "min_height": null,
      "min_width": null,
      "object_fit": null,
      "object_position": null,
      "order": null,
      "overflow": null,
      "overflow_x": null,
      "overflow_y": null,
      "padding": null,
      "right": null,
      "top": null,
      "visibility": null,
      "width": null
     }
    },
    "3187b136bd2b4119bc4ef3ccff2fbbd3": {
     "model_module": "@jupyter-widgets/base",
     "model_name": "LayoutModel",
     "state": {
      "_model_module": "@jupyter-widgets/base",
      "_model_module_version": "1.2.0",
      "_model_name": "LayoutModel",
      "_view_count": null,
      "_view_module": "@jupyter-widgets/base",
      "_view_module_version": "1.2.0",
      "_view_name": "LayoutView",
      "align_content": null,
      "align_items": null,
      "align_self": null,
      "border": null,
      "bottom": null,
      "display": null,
      "flex": null,
      "flex_flow": null,
      "grid_area": null,
      "grid_auto_columns": null,
      "grid_auto_flow": null,
      "grid_auto_rows": null,
      "grid_column": null,
      "grid_gap": null,
      "grid_row": null,
      "grid_template_areas": null,
      "grid_template_columns": null,
      "grid_template_rows": null,
      "height": null,
      "justify_content": null,
      "justify_items": null,
      "left": null,
      "margin": null,
      "max_height": null,
      "max_width": null,
      "min_height": null,
      "min_width": null,
      "object_fit": null,
      "object_position": null,
      "order": null,
      "overflow": null,
      "overflow_x": null,
      "overflow_y": null,
      "padding": null,
      "right": null,
      "top": null,
      "visibility": null,
      "width": null
     }
    },
    "361c98db13884e90b6d2884d787eb72b": {
     "model_module": "@jupyter-widgets/controls",
     "model_name": "ProgressStyleModel",
     "state": {
      "_model_module": "@jupyter-widgets/controls",
      "_model_module_version": "1.5.0",
      "_model_name": "ProgressStyleModel",
      "_view_count": null,
      "_view_module": "@jupyter-widgets/base",
      "_view_module_version": "1.2.0",
      "_view_name": "StyleView",
      "bar_color": null,
      "description_width": "initial"
     }
    },
    "3b4270d0f13746739dbc8b946d069c9a": {
     "model_module": "@jupyter-widgets/controls",
     "model_name": "ProgressStyleModel",
     "state": {
      "_model_module": "@jupyter-widgets/controls",
      "_model_module_version": "1.5.0",
      "_model_name": "ProgressStyleModel",
      "_view_count": null,
      "_view_module": "@jupyter-widgets/base",
      "_view_module_version": "1.2.0",
      "_view_name": "StyleView",
      "bar_color": null,
      "description_width": "initial"
     }
    },
    "3cb619741bbd453ea64204c600e3e37c": {
     "model_module": "@jupyter-widgets/controls",
     "model_name": "HBoxModel",
     "state": {
      "_dom_classes": [],
      "_model_module": "@jupyter-widgets/controls",
      "_model_module_version": "1.5.0",
      "_model_name": "HBoxModel",
      "_view_count": null,
      "_view_module": "@jupyter-widgets/controls",
      "_view_module_version": "1.5.0",
      "_view_name": "HBoxView",
      "box_style": "",
      "children": [
       "IPY_MODEL_6cb25f698e87449387ffb55c76e4e4d6",
       "IPY_MODEL_e2d28db2334049158913d52802815252"
      ],
      "layout": "IPY_MODEL_41de6370c11540e8837b86e6555f81b6"
     }
    },
    "3dbf68aea2ee4ad4a3a33f777cc46287": {
     "model_module": "@jupyter-widgets/controls",
     "model_name": "HTMLModel",
     "state": {
      "_dom_classes": [],
      "_model_module": "@jupyter-widgets/controls",
      "_model_module_version": "1.5.0",
      "_model_name": "HTMLModel",
      "_view_count": null,
      "_view_module": "@jupyter-widgets/controls",
      "_view_module_version": "1.5.0",
      "_view_name": "HTMLView",
      "description": "",
      "description_tooltip": null,
      "layout": "IPY_MODEL_8e52e310156b46a3a3deb01fd93a8f31",
      "placeholder": "​",
      "style": "IPY_MODEL_d3d95a86ce844ddca4a2563ec9391d26",
      "value": " 2.00/2.00 [00:00&lt;00:00, 23.0B/s]"
     }
    },
    "417fed27f04b44a988f202db5f25595d": {
     "model_module": "@jupyter-widgets/controls",
     "model_name": "ProgressStyleModel",
     "state": {
      "_model_module": "@jupyter-widgets/controls",
      "_model_module_version": "1.5.0",
      "_model_name": "ProgressStyleModel",
      "_view_count": null,
      "_view_module": "@jupyter-widgets/base",
      "_view_module_version": "1.2.0",
      "_view_name": "StyleView",
      "bar_color": null,
      "description_width": "initial"
     }
    },
    "41de6370c11540e8837b86e6555f81b6": {
     "model_module": "@jupyter-widgets/base",
     "model_name": "LayoutModel",
     "state": {
      "_model_module": "@jupyter-widgets/base",
      "_model_module_version": "1.2.0",
      "_model_name": "LayoutModel",
      "_view_count": null,
      "_view_module": "@jupyter-widgets/base",
      "_view_module_version": "1.2.0",
      "_view_name": "LayoutView",
      "align_content": null,
      "align_items": null,
      "align_self": null,
      "border": null,
      "bottom": null,
      "display": null,
      "flex": null,
      "flex_flow": null,
      "grid_area": null,
      "grid_auto_columns": null,
      "grid_auto_flow": null,
      "grid_auto_rows": null,
      "grid_column": null,
      "grid_gap": null,
      "grid_row": null,
      "grid_template_areas": null,
      "grid_template_columns": null,
      "grid_template_rows": null,
      "height": null,
      "justify_content": null,
      "justify_items": null,
      "left": null,
      "margin": null,
      "max_height": null,
      "max_width": null,
      "min_height": null,
      "min_width": null,
      "object_fit": null,
      "object_position": null,
      "order": null,
      "overflow": null,
      "overflow_x": null,
      "overflow_y": null,
      "padding": null,
      "right": null,
      "top": null,
      "visibility": null,
      "width": null
     }
    },
    "46b6ccb85db54a42aaeeaed36c4d63d8": {
     "model_module": "@jupyter-widgets/base",
     "model_name": "LayoutModel",
     "state": {
      "_model_module": "@jupyter-widgets/base",
      "_model_module_version": "1.2.0",
      "_model_name": "LayoutModel",
      "_view_count": null,
      "_view_module": "@jupyter-widgets/base",
      "_view_module_version": "1.2.0",
      "_view_name": "LayoutView",
      "align_content": null,
      "align_items": null,
      "align_self": null,
      "border": null,
      "bottom": null,
      "display": null,
      "flex": null,
      "flex_flow": null,
      "grid_area": null,
      "grid_auto_columns": null,
      "grid_auto_flow": null,
      "grid_auto_rows": null,
      "grid_column": null,
      "grid_gap": null,
      "grid_row": null,
      "grid_template_areas": null,
      "grid_template_columns": null,
      "grid_template_rows": null,
      "height": null,
      "justify_content": null,
      "justify_items": null,
      "left": null,
      "margin": null,
      "max_height": null,
      "max_width": null,
      "min_height": null,
      "min_width": null,
      "object_fit": null,
      "object_position": null,
      "order": null,
      "overflow": null,
      "overflow_x": null,
      "overflow_y": null,
      "padding": null,
      "right": null,
      "top": null,
      "visibility": null,
      "width": null
     }
    },
    "4ac4a77c79b54a9da50f2422440ce379": {
     "model_module": "@jupyter-widgets/base",
     "model_name": "LayoutModel",
     "state": {
      "_model_module": "@jupyter-widgets/base",
      "_model_module_version": "1.2.0",
      "_model_name": "LayoutModel",
      "_view_count": null,
      "_view_module": "@jupyter-widgets/base",
      "_view_module_version": "1.2.0",
      "_view_name": "LayoutView",
      "align_content": null,
      "align_items": null,
      "align_self": null,
      "border": null,
      "bottom": null,
      "display": null,
      "flex": null,
      "flex_flow": null,
      "grid_area": null,
      "grid_auto_columns": null,
      "grid_auto_flow": null,
      "grid_auto_rows": null,
      "grid_column": null,
      "grid_gap": null,
      "grid_row": null,
      "grid_template_areas": null,
      "grid_template_columns": null,
      "grid_template_rows": null,
      "height": null,
      "justify_content": null,
      "justify_items": null,
      "left": null,
      "margin": null,
      "max_height": null,
      "max_width": null,
      "min_height": null,
      "min_width": null,
      "object_fit": null,
      "object_position": null,
      "order": null,
      "overflow": null,
      "overflow_x": null,
      "overflow_y": null,
      "padding": null,
      "right": null,
      "top": null,
      "visibility": null,
      "width": null
     }
    },
    "4cee2fd33d3644a5992bc77556d7fc61": {
     "model_module": "@jupyter-widgets/controls",
     "model_name": "ProgressStyleModel",
     "state": {
      "_model_module": "@jupyter-widgets/controls",
      "_model_module_version": "1.5.0",
      "_model_name": "ProgressStyleModel",
      "_view_count": null,
      "_view_module": "@jupyter-widgets/base",
      "_view_module_version": "1.2.0",
      "_view_name": "StyleView",
      "bar_color": null,
      "description_width": "initial"
     }
    },
    "4ededd1a7a0b43bc906c6f15e4a5ac4b": {
     "model_module": "@jupyter-widgets/base",
     "model_name": "LayoutModel",
     "state": {
      "_model_module": "@jupyter-widgets/base",
      "_model_module_version": "1.2.0",
      "_model_name": "LayoutModel",
      "_view_count": null,
      "_view_module": "@jupyter-widgets/base",
      "_view_module_version": "1.2.0",
      "_view_name": "LayoutView",
      "align_content": null,
      "align_items": null,
      "align_self": null,
      "border": null,
      "bottom": null,
      "display": null,
      "flex": null,
      "flex_flow": null,
      "grid_area": null,
      "grid_auto_columns": null,
      "grid_auto_flow": null,
      "grid_auto_rows": null,
      "grid_column": null,
      "grid_gap": null,
      "grid_row": null,
      "grid_template_areas": null,
      "grid_template_columns": null,
      "grid_template_rows": null,
      "height": null,
      "justify_content": null,
      "justify_items": null,
      "left": null,
      "margin": null,
      "max_height": null,
      "max_width": null,
      "min_height": null,
      "min_width": null,
      "object_fit": null,
      "object_position": null,
      "order": null,
      "overflow": null,
      "overflow_x": null,
      "overflow_y": null,
      "padding": null,
      "right": null,
      "top": null,
      "visibility": null,
      "width": null
     }
    },
    "521335a86177457c895c1e4f57432c92": {
     "model_module": "@jupyter-widgets/controls",
     "model_name": "DescriptionStyleModel",
     "state": {
      "_model_module": "@jupyter-widgets/controls",
      "_model_module_version": "1.5.0",
      "_model_name": "DescriptionStyleModel",
      "_view_count": null,
      "_view_module": "@jupyter-widgets/base",
      "_view_module_version": "1.2.0",
      "_view_name": "StyleView",
      "description_width": ""
     }
    },
    "5c10146dd99c4f85834e7de18b8e9c70": {
     "model_module": "@jupyter-widgets/controls",
     "model_name": "ProgressStyleModel",
     "state": {
      "_model_module": "@jupyter-widgets/controls",
      "_model_module_version": "1.5.0",
      "_model_name": "ProgressStyleModel",
      "_view_count": null,
      "_view_module": "@jupyter-widgets/base",
      "_view_module_version": "1.2.0",
      "_view_name": "StyleView",
      "bar_color": null,
      "description_width": "initial"
     }
    },
    "5f29f14fd8ef40b7be2b20d09d0940be": {
     "model_module": "@jupyter-widgets/base",
     "model_name": "LayoutModel",
     "state": {
      "_model_module": "@jupyter-widgets/base",
      "_model_module_version": "1.2.0",
      "_model_name": "LayoutModel",
      "_view_count": null,
      "_view_module": "@jupyter-widgets/base",
      "_view_module_version": "1.2.0",
      "_view_name": "LayoutView",
      "align_content": null,
      "align_items": null,
      "align_self": null,
      "border": null,
      "bottom": null,
      "display": null,
      "flex": null,
      "flex_flow": null,
      "grid_area": null,
      "grid_auto_columns": null,
      "grid_auto_flow": null,
      "grid_auto_rows": null,
      "grid_column": null,
      "grid_gap": null,
      "grid_row": null,
      "grid_template_areas": null,
      "grid_template_columns": null,
      "grid_template_rows": null,
      "height": null,
      "justify_content": null,
      "justify_items": null,
      "left": null,
      "margin": null,
      "max_height": null,
      "max_width": null,
      "min_height": null,
      "min_width": null,
      "object_fit": null,
      "object_position": null,
      "order": null,
      "overflow": null,
      "overflow_x": null,
      "overflow_y": null,
      "padding": null,
      "right": null,
      "top": null,
      "visibility": null,
      "width": null
     }
    },
    "60414048b7044e49bc88928373e033c8": {
     "model_module": "@jupyter-widgets/controls",
     "model_name": "FloatProgressModel",
     "state": {
      "_dom_classes": [],
      "_model_module": "@jupyter-widgets/controls",
      "_model_module_version": "1.5.0",
      "_model_name": "FloatProgressModel",
      "_view_count": null,
      "_view_module": "@jupyter-widgets/controls",
      "_view_module_version": "1.5.0",
      "_view_name": "ProgressView",
      "bar_style": "success",
      "description": "Downloading: 100%",
      "description_tooltip": null,
      "layout": "IPY_MODEL_74ea9e18279a481abe940bc3606b0fd6",
      "max": 229167,
      "min": 0,
      "orientation": "horizontal",
      "style": "IPY_MODEL_e69bb771d2c940a09c4e4da2a56159e7",
      "value": 229167
     }
    },
    "6217c22cb62d4c1890193c33da17e28a": {
     "model_module": "@jupyter-widgets/base",
     "model_name": "LayoutModel",
     "state": {
      "_model_module": "@jupyter-widgets/base",
      "_model_module_version": "1.2.0",
      "_model_name": "LayoutModel",
      "_view_count": null,
      "_view_module": "@jupyter-widgets/base",
      "_view_module_version": "1.2.0",
      "_view_name": "LayoutView",
      "align_content": null,
      "align_items": null,
      "align_self": null,
      "border": null,
      "bottom": null,
      "display": null,
      "flex": null,
      "flex_flow": null,
      "grid_area": null,
      "grid_auto_columns": null,
      "grid_auto_flow": null,
      "grid_auto_rows": null,
      "grid_column": null,
      "grid_gap": null,
      "grid_row": null,
      "grid_template_areas": null,
      "grid_template_columns": null,
      "grid_template_rows": null,
      "height": null,
      "justify_content": null,
      "justify_items": null,
      "left": null,
      "margin": null,
      "max_height": null,
      "max_width": null,
      "min_height": null,
      "min_width": null,
      "object_fit": null,
      "object_position": null,
      "order": null,
      "overflow": null,
      "overflow_x": null,
      "overflow_y": null,
      "padding": null,
      "right": null,
      "top": null,
      "visibility": null,
      "width": null
     }
    },
    "635ddecf5e354f76827fc06d625768c2": {
     "model_module": "@jupyter-widgets/base",
     "model_name": "LayoutModel",
     "state": {
      "_model_module": "@jupyter-widgets/base",
      "_model_module_version": "1.2.0",
      "_model_name": "LayoutModel",
      "_view_count": null,
      "_view_module": "@jupyter-widgets/base",
      "_view_module_version": "1.2.0",
      "_view_name": "LayoutView",
      "align_content": null,
      "align_items": null,
      "align_self": null,
      "border": null,
      "bottom": null,
      "display": null,
      "flex": null,
      "flex_flow": null,
      "grid_area": null,
      "grid_auto_columns": null,
      "grid_auto_flow": null,
      "grid_auto_rows": null,
      "grid_column": null,
      "grid_gap": null,
      "grid_row": null,
      "grid_template_areas": null,
      "grid_template_columns": null,
      "grid_template_rows": null,
      "height": null,
      "justify_content": null,
      "justify_items": null,
      "left": null,
      "margin": null,
      "max_height": null,
      "max_width": null,
      "min_height": null,
      "min_width": null,
      "object_fit": null,
      "object_position": null,
      "order": null,
      "overflow": null,
      "overflow_x": null,
      "overflow_y": null,
      "padding": null,
      "right": null,
      "top": null,
      "visibility": null,
      "width": null
     }
    },
    "663e92c3a335426ca9cac05bed123eb7": {
     "model_module": "@jupyter-widgets/base",
     "model_name": "LayoutModel",
     "state": {
      "_model_module": "@jupyter-widgets/base",
      "_model_module_version": "1.2.0",
      "_model_name": "LayoutModel",
      "_view_count": null,
      "_view_module": "@jupyter-widgets/base",
      "_view_module_version": "1.2.0",
      "_view_name": "LayoutView",
      "align_content": null,
      "align_items": null,
      "align_self": null,
      "border": null,
      "bottom": null,
      "display": null,
      "flex": null,
      "flex_flow": null,
      "grid_area": null,
      "grid_auto_columns": null,
      "grid_auto_flow": null,
      "grid_auto_rows": null,
      "grid_column": null,
      "grid_gap": null,
      "grid_row": null,
      "grid_template_areas": null,
      "grid_template_columns": null,
      "grid_template_rows": null,
      "height": null,
      "justify_content": null,
      "justify_items": null,
      "left": null,
      "margin": null,
      "max_height": null,
      "max_width": null,
      "min_height": null,
      "min_width": null,
      "object_fit": null,
      "object_position": null,
      "order": null,
      "overflow": null,
      "overflow_x": null,
      "overflow_y": null,
      "padding": null,
      "right": null,
      "top": null,
      "visibility": null,
      "width": null
     }
    },
    "6cb25f698e87449387ffb55c76e4e4d6": {
     "model_module": "@jupyter-widgets/controls",
     "model_name": "FloatProgressModel",
     "state": {
      "_dom_classes": [],
      "_model_module": "@jupyter-widgets/controls",
      "_model_module_version": "1.5.0",
      "_model_name": "FloatProgressModel",
      "_view_count": null,
      "_view_module": "@jupyter-widgets/controls",
      "_view_module_version": "1.5.0",
      "_view_name": "ProgressView",
      "bar_style": "success",
      "description": "Downloading: 100%",
      "description_tooltip": null,
      "layout": "IPY_MODEL_4ac4a77c79b54a9da50f2422440ce379",
      "max": 1534,
      "min": 0,
      "orientation": "horizontal",
      "style": "IPY_MODEL_417fed27f04b44a988f202db5f25595d",
      "value": 1534
     }
    },
    "74e09eed31094689ab87952bf018522d": {
     "model_module": "@jupyter-widgets/base",
     "model_name": "LayoutModel",
     "state": {
      "_model_module": "@jupyter-widgets/base",
      "_model_module_version": "1.2.0",
      "_model_name": "LayoutModel",
      "_view_count": null,
      "_view_module": "@jupyter-widgets/base",
      "_view_module_version": "1.2.0",
      "_view_name": "LayoutView",
      "align_content": null,
      "align_items": null,
      "align_self": null,
      "border": null,
      "bottom": null,
      "display": null,
      "flex": null,
      "flex_flow": null,
      "grid_area": null,
      "grid_auto_columns": null,
      "grid_auto_flow": null,
      "grid_auto_rows": null,
      "grid_column": null,
      "grid_gap": null,
      "grid_row": null,
      "grid_template_areas": null,
      "grid_template_columns": null,
      "grid_template_rows": null,
      "height": null,
      "justify_content": null,
      "justify_items": null,
      "left": null,
      "margin": null,
      "max_height": null,
      "max_width": null,
      "min_height": null,
      "min_width": null,
      "object_fit": null,
      "object_position": null,
      "order": null,
      "overflow": null,
      "overflow_x": null,
      "overflow_y": null,
      "padding": null,
      "right": null,
      "top": null,
      "visibility": null,
      "width": null
     }
    },
    "74ea9e18279a481abe940bc3606b0fd6": {
     "model_module": "@jupyter-widgets/base",
     "model_name": "LayoutModel",
     "state": {
      "_model_module": "@jupyter-widgets/base",
      "_model_module_version": "1.2.0",
      "_model_name": "LayoutModel",
      "_view_count": null,
      "_view_module": "@jupyter-widgets/base",
      "_view_module_version": "1.2.0",
      "_view_name": "LayoutView",
      "align_content": null,
      "align_items": null,
      "align_self": null,
      "border": null,
      "bottom": null,
      "display": null,
      "flex": null,
      "flex_flow": null,
      "grid_area": null,
      "grid_auto_columns": null,
      "grid_auto_flow": null,
      "grid_auto_rows": null,
      "grid_column": null,
      "grid_gap": null,
      "grid_row": null,
      "grid_template_areas": null,
      "grid_template_columns": null,
      "grid_template_rows": null,
      "height": null,
      "justify_content": null,
      "justify_items": null,
      "left": null,
      "margin": null,
      "max_height": null,
      "max_width": null,
      "min_height": null,
      "min_width": null,
      "object_fit": null,
      "object_position": null,
      "order": null,
      "overflow": null,
      "overflow_x": null,
      "overflow_y": null,
      "padding": null,
      "right": null,
      "top": null,
      "visibility": null,
      "width": null
     }
    },
    "7a95e3f6ba2f4bf396c7f6a8673babb8": {
     "model_module": "@jupyter-widgets/controls",
     "model_name": "FloatProgressModel",
     "state": {
      "_dom_classes": [],
      "_model_module": "@jupyter-widgets/controls",
      "_model_module_version": "1.5.0",
      "_model_name": "FloatProgressModel",
      "_view_count": null,
      "_view_module": "@jupyter-widgets/controls",
      "_view_module_version": "1.5.0",
      "_view_name": "ProgressView",
      "bar_style": "success",
      "description": "Downloading: ",
      "description_tooltip": null,
      "layout": "IPY_MODEL_74e09eed31094689ab87952bf018522d",
      "max": 1961,
      "min": 0,
      "orientation": "horizontal",
      "style": "IPY_MODEL_5c10146dd99c4f85834e7de18b8e9c70",
      "value": 1961
     }
    },
    "7c536ec2904f49a8a88388b0438f63eb": {
     "model_module": "@jupyter-widgets/base",
     "model_name": "LayoutModel",
     "state": {
      "_model_module": "@jupyter-widgets/base",
      "_model_module_version": "1.2.0",
      "_model_name": "LayoutModel",
      "_view_count": null,
      "_view_module": "@jupyter-widgets/base",
      "_view_module_version": "1.2.0",
      "_view_name": "LayoutView",
      "align_content": null,
      "align_items": null,
      "align_self": null,
      "border": null,
      "bottom": null,
      "display": null,
      "flex": null,
      "flex_flow": null,
      "grid_area": null,
      "grid_auto_columns": null,
      "grid_auto_flow": null,
      "grid_auto_rows": null,
      "grid_column": null,
      "grid_gap": null,
      "grid_row": null,
      "grid_template_areas": null,
      "grid_template_columns": null,
      "grid_template_rows": null,
      "height": null,
      "justify_content": null,
      "justify_items": null,
      "left": null,
      "margin": null,
      "max_height": null,
      "max_width": null,
      "min_height": null,
      "min_width": null,
      "object_fit": null,
      "object_position": null,
      "order": null,
      "overflow": null,
      "overflow_x": null,
      "overflow_y": null,
      "padding": null,
      "right": null,
      "top": null,
      "visibility": null,
      "width": null
     }
    },
    "850532fa689c483294fd07fee56bb561": {
     "model_module": "@jupyter-widgets/base",
     "model_name": "LayoutModel",
     "state": {
      "_model_module": "@jupyter-widgets/base",
      "_model_module_version": "1.2.0",
      "_model_name": "LayoutModel",
      "_view_count": null,
      "_view_module": "@jupyter-widgets/base",
      "_view_module_version": "1.2.0",
      "_view_name": "LayoutView",
      "align_content": null,
      "align_items": null,
      "align_self": null,
      "border": null,
      "bottom": null,
      "display": null,
      "flex": null,
      "flex_flow": null,
      "grid_area": null,
      "grid_auto_columns": null,
      "grid_auto_flow": null,
      "grid_auto_rows": null,
      "grid_column": null,
      "grid_gap": null,
      "grid_row": null,
      "grid_template_areas": null,
      "grid_template_columns": null,
      "grid_template_rows": null,
      "height": null,
      "justify_content": null,
      "justify_items": null,
      "left": null,
      "margin": null,
      "max_height": null,
      "max_width": null,
      "min_height": null,
      "min_width": null,
      "object_fit": null,
      "object_position": null,
      "order": null,
      "overflow": null,
      "overflow_x": null,
      "overflow_y": null,
      "padding": null,
      "right": null,
      "top": null,
      "visibility": null,
      "width": null
     }
    },
    "8a813451b888473c9aeb59911be33d8d": {
     "model_module": "@jupyter-widgets/base",
     "model_name": "LayoutModel",
     "state": {
      "_model_module": "@jupyter-widgets/base",
      "_model_module_version": "1.2.0",
      "_model_name": "LayoutModel",
      "_view_count": null,
      "_view_module": "@jupyter-widgets/base",
      "_view_module_version": "1.2.0",
      "_view_name": "LayoutView",
      "align_content": null,
      "align_items": null,
      "align_self": null,
      "border": null,
      "bottom": null,
      "display": null,
      "flex": null,
      "flex_flow": null,
      "grid_area": null,
      "grid_auto_columns": null,
      "grid_auto_flow": null,
      "grid_auto_rows": null,
      "grid_column": null,
      "grid_gap": null,
      "grid_row": null,
      "grid_template_areas": null,
      "grid_template_columns": null,
      "grid_template_rows": null,
      "height": null,
      "justify_content": null,
      "justify_items": null,
      "left": null,
      "margin": null,
      "max_height": null,
      "max_width": null,
      "min_height": null,
      "min_width": null,
      "object_fit": null,
      "object_position": null,
      "order": null,
      "overflow": null,
      "overflow_x": null,
      "overflow_y": null,
      "padding": null,
      "right": null,
      "top": null,
      "visibility": null,
      "width": null
     }
    },
    "8e52e310156b46a3a3deb01fd93a8f31": {
     "model_module": "@jupyter-widgets/base",
     "model_name": "LayoutModel",
     "state": {
      "_model_module": "@jupyter-widgets/base",
      "_model_module_version": "1.2.0",
      "_model_name": "LayoutModel",
      "_view_count": null,
      "_view_module": "@jupyter-widgets/base",
      "_view_module_version": "1.2.0",
      "_view_name": "LayoutView",
      "align_content": null,
      "align_items": null,
      "align_self": null,
      "border": null,
      "bottom": null,
      "display": null,
      "flex": null,
      "flex_flow": null,
      "grid_area": null,
      "grid_auto_columns": null,
      "grid_auto_flow": null,
      "grid_auto_rows": null,
      "grid_column": null,
      "grid_gap": null,
      "grid_row": null,
      "grid_template_areas": null,
      "grid_template_columns": null,
      "grid_template_rows": null,
      "height": null,
      "justify_content": null,
      "justify_items": null,
      "left": null,
      "margin": null,
      "max_height": null,
      "max_width": null,
      "min_height": null,
      "min_width": null,
      "object_fit": null,
      "object_position": null,
      "order": null,
      "overflow": null,
      "overflow_x": null,
      "overflow_y": null,
      "padding": null,
      "right": null,
      "top": null,
      "visibility": null,
      "width": null
     }
    },
    "8f2e41ac7e474a9397b34f46ef03b5d9": {
     "model_module": "@jupyter-widgets/controls",
     "model_name": "HBoxModel",
     "state": {
      "_dom_classes": [],
      "_model_module": "@jupyter-widgets/controls",
      "_model_module_version": "1.5.0",
      "_model_name": "HBoxModel",
      "_view_count": null,
      "_view_module": "@jupyter-widgets/controls",
      "_view_module_version": "1.5.0",
      "_view_name": "HBoxView",
      "box_style": "",
      "children": [
       "IPY_MODEL_efabba5c89cc47f291936ea7ae9a4522",
       "IPY_MODEL_3dbf68aea2ee4ad4a3a33f777cc46287"
      ],
      "layout": "IPY_MODEL_6217c22cb62d4c1890193c33da17e28a"
     }
    },
    "953f64d7263a4df08c666d25ce84ba88": {
     "model_module": "@jupyter-widgets/controls",
     "model_name": "HTMLModel",
     "state": {
      "_dom_classes": [],
      "_model_module": "@jupyter-widgets/controls",
      "_model_module_version": "1.5.0",
      "_model_name": "HTMLModel",
      "_view_count": null,
      "_view_module": "@jupyter-widgets/controls",
      "_view_module_version": "1.5.0",
      "_view_name": "HTMLView",
      "description": "",
      "description_tooltip": null,
      "layout": "IPY_MODEL_2a0ac5a200244df29669eef59a32fbff",
      "placeholder": "​",
      "style": "IPY_MODEL_1b81b69e3ac241789c0fd9bb8650236f",
      "value": " 4.95k/? [00:00&lt;00:00, 18.7kB/s]"
     }
    },
    "9657f8d94f1644a5950547a3bb9c859a": {
     "model_module": "@jupyter-widgets/controls",
     "model_name": "HTMLModel",
     "state": {
      "_dom_classes": [],
      "_model_module": "@jupyter-widgets/controls",
      "_model_module_version": "1.5.0",
      "_model_name": "HTMLModel",
      "_view_count": null,
      "_view_module": "@jupyter-widgets/controls",
      "_view_module_version": "1.5.0",
      "_view_name": "HTMLView",
      "description": "",
      "description_tooltip": null,
      "layout": "IPY_MODEL_8a813451b888473c9aeb59911be33d8d",
      "placeholder": "​",
      "style": "IPY_MODEL_b8c297ffb91a44e19fffc47812644480",
      "value": " 112/112 [00:00&lt;00:00, 162B/s]"
     }
    },
    "ad27f8bf3fcc460a9da3b75d0fe372ab": {
     "model_module": "@jupyter-widgets/base",
     "model_name": "LayoutModel",
     "state": {
      "_model_module": "@jupyter-widgets/base",
      "_model_module_version": "1.2.0",
      "_model_name": "LayoutModel",
      "_view_count": null,
      "_view_module": "@jupyter-widgets/base",
      "_view_module_version": "1.2.0",
      "_view_name": "LayoutView",
      "align_content": null,
      "align_items": null,
      "align_self": null,
      "border": null,
      "bottom": null,
      "display": null,
      "flex": null,
      "flex_flow": null,
      "grid_area": null,
      "grid_auto_columns": null,
      "grid_auto_flow": null,
      "grid_auto_rows": null,
      "grid_column": null,
      "grid_gap": null,
      "grid_row": null,
      "grid_template_areas": null,
      "grid_template_columns": null,
      "grid_template_rows": null,
      "height": null,
      "justify_content": null,
      "justify_items": null,
      "left": null,
      "margin": null,
      "max_height": null,
      "max_width": null,
      "min_height": null,
      "min_width": null,
      "object_fit": null,
      "object_position": null,
      "order": null,
      "overflow": null,
      "overflow_x": null,
      "overflow_y": null,
      "padding": null,
      "right": null,
      "top": null,
      "visibility": null,
      "width": null
     }
    },
    "b371d1c072fe413f93a8e2b8b0f4ef1d": {
     "model_module": "@jupyter-widgets/base",
     "model_name": "LayoutModel",
     "state": {
      "_model_module": "@jupyter-widgets/base",
      "_model_module_version": "1.2.0",
      "_model_name": "LayoutModel",
      "_view_count": null,
      "_view_module": "@jupyter-widgets/base",
      "_view_module_version": "1.2.0",
      "_view_name": "LayoutView",
      "align_content": null,
      "align_items": null,
      "align_self": null,
      "border": null,
      "bottom": null,
      "display": null,
      "flex": null,
      "flex_flow": null,
      "grid_area": null,
      "grid_auto_columns": null,
      "grid_auto_flow": null,
      "grid_auto_rows": null,
      "grid_column": null,
      "grid_gap": null,
      "grid_row": null,
      "grid_template_areas": null,
      "grid_template_columns": null,
      "grid_template_rows": null,
      "height": null,
      "justify_content": null,
      "justify_items": null,
      "left": null,
      "margin": null,
      "max_height": null,
      "max_width": null,
      "min_height": null,
      "min_width": null,
      "object_fit": null,
      "object_position": null,
      "order": null,
      "overflow": null,
      "overflow_x": null,
      "overflow_y": null,
      "padding": null,
      "right": null,
      "top": null,
      "visibility": null,
      "width": null
     }
    },
    "b8c297ffb91a44e19fffc47812644480": {
     "model_module": "@jupyter-widgets/controls",
     "model_name": "DescriptionStyleModel",
     "state": {
      "_model_module": "@jupyter-widgets/controls",
      "_model_module_version": "1.5.0",
      "_model_name": "DescriptionStyleModel",
      "_view_count": null,
      "_view_module": "@jupyter-widgets/base",
      "_view_module_version": "1.2.0",
      "_view_name": "StyleView",
      "description_width": ""
     }
    },
    "b9f7a254e1ce471eab08a39225b8ada1": {
     "model_module": "@jupyter-widgets/controls",
     "model_name": "HTMLModel",
     "state": {
      "_dom_classes": [],
      "_model_module": "@jupyter-widgets/controls",
      "_model_module_version": "1.5.0",
      "_model_name": "HTMLModel",
      "_view_count": null,
      "_view_module": "@jupyter-widgets/controls",
      "_view_module_version": "1.5.0",
      "_view_name": "HTMLView",
      "description": "",
      "description_tooltip": null,
      "layout": "IPY_MODEL_3187b136bd2b4119bc4ef3ccff2fbbd3",
      "placeholder": "​",
      "style": "IPY_MODEL_521335a86177457c895c1e4f57432c92",
      "value": " 229k/229k [00:01&lt;00:00, 165kB/s]"
     }
    },
    "bb4fccfd453f44f885967435461f3921": {
     "model_module": "@jupyter-widgets/controls",
     "model_name": "HBoxModel",
     "state": {
      "_dom_classes": [],
      "_model_module": "@jupyter-widgets/controls",
      "_model_module_version": "1.5.0",
      "_model_name": "HBoxModel",
      "_view_count": null,
      "_view_module": "@jupyter-widgets/controls",
      "_view_module_version": "1.5.0",
      "_view_name": "HBoxView",
      "box_style": "",
      "children": [
       "IPY_MODEL_7a95e3f6ba2f4bf396c7f6a8673babb8",
       "IPY_MODEL_953f64d7263a4df08c666d25ce84ba88"
      ],
      "layout": "IPY_MODEL_635ddecf5e354f76827fc06d625768c2"
     }
    },
    "c1f499e3626e4fe9b5afc4150ae1bcbb": {
     "model_module": "@jupyter-widgets/controls",
     "model_name": "HTMLModel",
     "state": {
      "_dom_classes": [],
      "_model_module": "@jupyter-widgets/controls",
      "_model_module_version": "1.5.0",
      "_model_name": "HTMLModel",
      "_view_count": null,
      "_view_module": "@jupyter-widgets/controls",
      "_view_module_version": "1.5.0",
      "_view_name": "HTMLView",
      "description": "",
      "description_tooltip": null,
      "layout": "IPY_MODEL_46b6ccb85db54a42aaeeaed36c4d63d8",
      "placeholder": "​",
      "style": "IPY_MODEL_d1f3cc2e1e66462bb903bbd48fff202e",
      "value": " 498M/498M [00:14&lt;00:00, 35.2MB/s]"
     }
    },
    "cb2531a1240c44a29fabce3070294431": {
     "model_module": "@jupyter-widgets/controls",
     "model_name": "DescriptionStyleModel",
     "state": {
      "_model_module": "@jupyter-widgets/controls",
      "_model_module_version": "1.5.0",
      "_model_name": "DescriptionStyleModel",
      "_view_count": null,
      "_view_module": "@jupyter-widgets/base",
      "_view_module_version": "1.2.0",
      "_view_name": "StyleView",
      "description_width": ""
     }
    },
    "d1f3cc2e1e66462bb903bbd48fff202e": {
     "model_module": "@jupyter-widgets/controls",
     "model_name": "DescriptionStyleModel",
     "state": {
      "_model_module": "@jupyter-widgets/controls",
      "_model_module_version": "1.5.0",
      "_model_name": "DescriptionStyleModel",
      "_view_count": null,
      "_view_module": "@jupyter-widgets/base",
      "_view_module_version": "1.2.0",
      "_view_name": "StyleView",
      "description_width": ""
     }
    },
    "d3d95a86ce844ddca4a2563ec9391d26": {
     "model_module": "@jupyter-widgets/controls",
     "model_name": "DescriptionStyleModel",
     "state": {
      "_model_module": "@jupyter-widgets/controls",
      "_model_module_version": "1.5.0",
      "_model_name": "DescriptionStyleModel",
      "_view_count": null,
      "_view_module": "@jupyter-widgets/base",
      "_view_module_version": "1.2.0",
      "_view_name": "StyleView",
      "description_width": ""
     }
    },
    "e2d28db2334049158913d52802815252": {
     "model_module": "@jupyter-widgets/controls",
     "model_name": "HTMLModel",
     "state": {
      "_dom_classes": [],
      "_model_module": "@jupyter-widgets/controls",
      "_model_module_version": "1.5.0",
      "_model_name": "HTMLModel",
      "_view_count": null,
      "_view_module": "@jupyter-widgets/controls",
      "_view_module_version": "1.5.0",
      "_view_name": "HTMLView",
      "description": "",
      "description_tooltip": null,
      "layout": "IPY_MODEL_663e92c3a335426ca9cac05bed123eb7",
      "placeholder": "​",
      "style": "IPY_MODEL_cb2531a1240c44a29fabce3070294431",
      "value": " 1.53k/1.53k [00:00&lt;00:00, 3.74kB/s]"
     }
    },
    "e69bb771d2c940a09c4e4da2a56159e7": {
     "model_module": "@jupyter-widgets/controls",
     "model_name": "ProgressStyleModel",
     "state": {
      "_model_module": "@jupyter-widgets/controls",
      "_model_module_version": "1.5.0",
      "_model_name": "ProgressStyleModel",
      "_view_count": null,
      "_view_module": "@jupyter-widgets/base",
      "_view_module_version": "1.2.0",
      "_view_name": "StyleView",
      "bar_color": null,
      "description_width": "initial"
     }
    },
    "efabba5c89cc47f291936ea7ae9a4522": {
     "model_module": "@jupyter-widgets/controls",
     "model_name": "FloatProgressModel",
     "state": {
      "_dom_classes": [],
      "_model_module": "@jupyter-widgets/controls",
      "_model_module_version": "1.5.0",
      "_model_name": "FloatProgressModel",
      "_view_count": null,
      "_view_module": "@jupyter-widgets/controls",
      "_view_module_version": "1.5.0",
      "_view_name": "ProgressView",
      "bar_style": "success",
      "description": "Downloading: 100%",
      "description_tooltip": null,
      "layout": "IPY_MODEL_7c536ec2904f49a8a88388b0438f63eb",
      "max": 2,
      "min": 0,
      "orientation": "horizontal",
      "style": "IPY_MODEL_361c98db13884e90b6d2884d787eb72b",
      "value": 2
     }
    },
    "f53633f2d4f24031ab351f7c8e946a64": {
     "model_module": "@jupyter-widgets/controls",
     "model_name": "HBoxModel",
     "state": {
      "_dom_classes": [],
      "_model_module": "@jupyter-widgets/controls",
      "_model_module_version": "1.5.0",
      "_model_name": "HBoxModel",
      "_view_count": null,
      "_view_module": "@jupyter-widgets/controls",
      "_view_module_version": "1.5.0",
      "_view_name": "HBoxView",
      "box_style": "",
      "children": [
       "IPY_MODEL_60414048b7044e49bc88928373e033c8",
       "IPY_MODEL_b9f7a254e1ce471eab08a39225b8ada1"
      ],
      "layout": "IPY_MODEL_4ededd1a7a0b43bc906c6f15e4a5ac4b"
     }
    },
    "f77c927ef5cc4f98b7a7dc6a8281b67c": {
     "model_module": "@jupyter-widgets/controls",
     "model_name": "FloatProgressModel",
     "state": {
      "_dom_classes": [],
      "_model_module": "@jupyter-widgets/controls",
      "_model_module_version": "1.5.0",
      "_model_name": "FloatProgressModel",
      "_view_count": null,
      "_view_module": "@jupyter-widgets/controls",
      "_view_module_version": "1.5.0",
      "_view_name": "ProgressView",
      "bar_style": "success",
      "description": "Downloading: 100%",
      "description_tooltip": null,
      "layout": "IPY_MODEL_850532fa689c483294fd07fee56bb561",
      "max": 497810400,
      "min": 0,
      "orientation": "horizontal",
      "style": "IPY_MODEL_3b4270d0f13746739dbc8b946d069c9a",
      "value": 497810400
     }
    },
    "fd918d0263254b2880f60f490fcef57c": {
     "model_module": "@jupyter-widgets/controls",
     "model_name": "HBoxModel",
     "state": {
      "_dom_classes": [],
      "_model_module": "@jupyter-widgets/controls",
      "_model_module_version": "1.5.0",
      "_model_name": "HBoxModel",
      "_view_count": null,
      "_view_module": "@jupyter-widgets/controls",
      "_view_module_version": "1.5.0",
      "_view_name": "HBoxView",
      "box_style": "",
      "children": [
       "IPY_MODEL_28ca11df4eac4db5a2dc9368c6193342",
       "IPY_MODEL_9657f8d94f1644a5950547a3bb9c859a"
      ],
      "layout": "IPY_MODEL_5f29f14fd8ef40b7be2b20d09d0940be"
     }
    }
   }
  }
 },
 "nbformat": 4,
 "nbformat_minor": 1
}
